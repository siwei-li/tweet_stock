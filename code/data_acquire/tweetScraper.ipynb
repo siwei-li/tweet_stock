{
 "cells": [
  {
   "cell_type": "code",
   "execution_count": 1,
   "metadata": {
    "collapsed": true
   },
   "outputs": [],
   "source": [
    "import datetime\n",
    "from Scweet.scweet import scrape\n",
    "import pandas as pd\n",
    "\n",
    "\n",
    "from datetime import date"
   ]
  },
  {
   "cell_type": "code",
   "execution_count": 8,
   "outputs": [],
   "source": [
    "search_word_list = [\"$AAPL\"]\n",
    "last_date = date.today().strftime('%Y-%m-%d')\n",
    "start_date = (date.today() - datetime.timedelta(days=59)).strftime('%Y-%m-%d')\n",
    "path = \"tweets/\""
   ],
   "metadata": {
    "collapsed": false,
    "pycharm": {
     "name": "#%%\n"
    }
   }
  },
  {
   "cell_type": "code",
   "execution_count": 9,
   "outputs": [
    {
     "name": "stdout",
     "output_type": "stream",
     "text": [
      "Scraping on headless mode.\n",
      "looking for tweets between 2021-10-22 and 2021-10-23 ...\n",
      " path : https://twitter.com/search?q=($AAPL)%20until%3A2021-10-23%20since%3A2021-10-22%20lang%3Aen&src=typed_query\n",
      "scroll  1\n",
      "scroll  2\n",
      "looking for tweets between 2021-10-23 and 2021-10-24 ...\n",
      " path : https://twitter.com/search?q=($AAPL)%20until%3A2021-10-24%20since%3A2021-10-23%20lang%3Aen&src=typed_query\n",
      "scroll  1\n",
      "scroll  2\n",
      "looking for tweets between 2021-10-24 and 2021-10-25 ...\n",
      " path : https://twitter.com/search?q=($AAPL)%20until%3A2021-10-25%20since%3A2021-10-24%20lang%3Aen&src=typed_query\n",
      "scroll  1\n",
      "scroll  2\n"
     ]
    },
    {
     "data": {
      "text/plain": "Empty DataFrame\nColumns: [UserScreenName, UserName, Timestamp, Text, Embedded_text, Emojis, Comments, Likes, Retweets, Image link, Tweet URL]\nIndex: []",
      "text/html": "<div>\n<style scoped>\n    .dataframe tbody tr th:only-of-type {\n        vertical-align: middle;\n    }\n\n    .dataframe tbody tr th {\n        vertical-align: top;\n    }\n\n    .dataframe thead th {\n        text-align: right;\n    }\n</style>\n<table border=\"1\" class=\"dataframe\">\n  <thead>\n    <tr style=\"text-align: right;\">\n      <th></th>\n      <th>UserScreenName</th>\n      <th>UserName</th>\n      <th>Timestamp</th>\n      <th>Text</th>\n      <th>Embedded_text</th>\n      <th>Emojis</th>\n      <th>Comments</th>\n      <th>Likes</th>\n      <th>Retweets</th>\n      <th>Image link</th>\n      <th>Tweet URL</th>\n    </tr>\n  </thead>\n  <tbody>\n  </tbody>\n</table>\n</div>"
     },
     "execution_count": 9,
     "metadata": {},
     "output_type": "execute_result"
    }
   ],
   "source": [
    "data = scrape(words=search_word_list, since=start_date, until=last_date,interval=1, \\\n",
    "              lang=\"en\",\n",
    "              resume=False,\n",
    "              # display_type=\"latest\",\n",
    "              headless=True)\n",
    "              # headless=False)\n",
    "data"
   ],
   "metadata": {
    "collapsed": false,
    "pycharm": {
     "name": "#%%\n"
    }
   }
  },
  {
   "cell_type": "code",
   "source": [
    "data.to_csv( path + search_word_list[0] + \"_\" + start_date + \"_\" + last_date + \"_2.csv\")\n"
   ],
   "metadata": {
    "collapsed": false,
    "pycharm": {
     "name": "#%%\n"
    }
   },
   "execution_count": 19,
   "outputs": []
  }
 ],
 "metadata": {
  "kernelspec": {
   "display_name": "Python 3",
   "language": "python",
   "name": "python3"
  },
  "language_info": {
   "codemirror_mode": {
    "name": "ipython",
    "version": 2
   },
   "file_extension": ".py",
   "mimetype": "text/x-python",
   "name": "python",
   "nbconvert_exporter": "python",
   "pygments_lexer": "ipython2",
   "version": "2.7.6"
  }
 },
 "nbformat": 4,
 "nbformat_minor": 0
}