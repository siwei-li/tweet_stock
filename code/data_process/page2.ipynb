{
 "cells": [
  {
   "cell_type": "code",
   "execution_count": 32,
   "outputs": [],
   "source": [
    "import pandas as pd\n",
    "real_30m = pd.read_csv(\"y_real_30m.csv\", header=None).transpose()\n",
    "base_30m = pd.read_csv(\"y_baseline_30m.csv\", header=None).transpose()\n",
    "pred_30m = pd.read_csv(\"y_tweet_30m.csv\", header=None).transpose()\n",
    "\n",
    "real_60m = pd.read_csv(\"y_real_60m.csv\", header=None).transpose()\n",
    "base_60m = pd.read_csv(\"y_baseline_60m.csv\", header=None).transpose()\n",
    "pred_60m = pd.read_csv(\"y_tweet_60m.csv\", header=None).transpose()\n",
    "\n",
    "df1 = [real_30m, base_30m, pred_30m]\n",
    "df1 = pd.concat(df1, axis = 1)\n",
    "df1.columns = ['real_30m', 'pred_30m', 'base_30m']\n",
    "\n",
    "df1.to_csv(\"page2_30m.csv\", index=False)\n",
    "\n",
    "\n",
    "df2 = [ real_60m, base_60m, pred_60m]\n",
    "df2 = pd.concat(df2, axis = 1)\n",
    "df2.columns = [ 'real_60m', 'pred_60m', 'base_60m']\n",
    "df2.to_csv(\"page2_60m.csv\", index=False)"
   ],
   "metadata": {
    "collapsed": false,
    "pycharm": {
     "name": "#%%\n"
    }
   }
  },
  {
   "cell_type": "code",
   "execution_count": 29,
   "outputs": [
    {
     "data": {
      "text/plain": "     real_30m  pred_30m  base_30m  real_60m  pred_60m  base_60m\n0    0.711146  0.710293  0.714093  0.718724  0.707791  0.714385\n1    0.710618  0.712453  0.716084  0.719804  0.713190  0.720027\n2    0.721969  0.694367  0.708698  0.719264  0.716946  0.724158\n3    0.715106  0.728168  0.716578  0.723857  0.696771  0.704997\n4    0.689632  0.714762  0.722117  0.687516  0.730537  0.731889\n..        ...       ...       ...       ...       ...       ...\n155  0.995314  1.004155  0.971043       NaN       NaN       NaN\n156  0.987092  1.010953  0.973100       NaN       NaN       NaN\n157  0.993863  1.012118  0.972934       NaN       NaN       NaN\n158  0.981060  1.002505  0.969748       NaN       NaN       NaN\n159  0.979476  1.008953  0.966541       NaN       NaN       NaN\n\n[160 rows x 6 columns]",
      "text/html": "<div>\n<style scoped>\n    .dataframe tbody tr th:only-of-type {\n        vertical-align: middle;\n    }\n\n    .dataframe tbody tr th {\n        vertical-align: top;\n    }\n\n    .dataframe thead th {\n        text-align: right;\n    }\n</style>\n<table border=\"1\" class=\"dataframe\">\n  <thead>\n    <tr style=\"text-align: right;\">\n      <th></th>\n      <th>real_30m</th>\n      <th>pred_30m</th>\n      <th>base_30m</th>\n      <th>real_60m</th>\n      <th>pred_60m</th>\n      <th>base_60m</th>\n    </tr>\n  </thead>\n  <tbody>\n    <tr>\n      <th>0</th>\n      <td>0.711146</td>\n      <td>0.710293</td>\n      <td>0.714093</td>\n      <td>0.718724</td>\n      <td>0.707791</td>\n      <td>0.714385</td>\n    </tr>\n    <tr>\n      <th>1</th>\n      <td>0.710618</td>\n      <td>0.712453</td>\n      <td>0.716084</td>\n      <td>0.719804</td>\n      <td>0.713190</td>\n      <td>0.720027</td>\n    </tr>\n    <tr>\n      <th>2</th>\n      <td>0.721969</td>\n      <td>0.694367</td>\n      <td>0.708698</td>\n      <td>0.719264</td>\n      <td>0.716946</td>\n      <td>0.724158</td>\n    </tr>\n    <tr>\n      <th>3</th>\n      <td>0.715106</td>\n      <td>0.728168</td>\n      <td>0.716578</td>\n      <td>0.723857</td>\n      <td>0.696771</td>\n      <td>0.704997</td>\n    </tr>\n    <tr>\n      <th>4</th>\n      <td>0.689632</td>\n      <td>0.714762</td>\n      <td>0.722117</td>\n      <td>0.687516</td>\n      <td>0.730537</td>\n      <td>0.731889</td>\n    </tr>\n    <tr>\n      <th>...</th>\n      <td>...</td>\n      <td>...</td>\n      <td>...</td>\n      <td>...</td>\n      <td>...</td>\n      <td>...</td>\n    </tr>\n    <tr>\n      <th>155</th>\n      <td>0.995314</td>\n      <td>1.004155</td>\n      <td>0.971043</td>\n      <td>NaN</td>\n      <td>NaN</td>\n      <td>NaN</td>\n    </tr>\n    <tr>\n      <th>156</th>\n      <td>0.987092</td>\n      <td>1.010953</td>\n      <td>0.973100</td>\n      <td>NaN</td>\n      <td>NaN</td>\n      <td>NaN</td>\n    </tr>\n    <tr>\n      <th>157</th>\n      <td>0.993863</td>\n      <td>1.012118</td>\n      <td>0.972934</td>\n      <td>NaN</td>\n      <td>NaN</td>\n      <td>NaN</td>\n    </tr>\n    <tr>\n      <th>158</th>\n      <td>0.981060</td>\n      <td>1.002505</td>\n      <td>0.969748</td>\n      <td>NaN</td>\n      <td>NaN</td>\n      <td>NaN</td>\n    </tr>\n    <tr>\n      <th>159</th>\n      <td>0.979476</td>\n      <td>1.008953</td>\n      <td>0.966541</td>\n      <td>NaN</td>\n      <td>NaN</td>\n      <td>NaN</td>\n    </tr>\n  </tbody>\n</table>\n<p>160 rows × 6 columns</p>\n</div>"
     },
     "execution_count": 29,
     "metadata": {},
     "output_type": "execute_result"
    }
   ],
   "source": [
    "dfs = [real_30m, base_30m, pred_30m, real_60m, base_60m, pred_60m]\n",
    "df = pd.concat(dfs, axis = 1)\n",
    "df.columns = ['real_30m', 'pred_30m', 'base_30m', 'real_60m', 'pred_60m', 'base_60m']\n",
    "df.to_csv(\"page2.csv\", index=False)"
   ],
   "metadata": {
    "collapsed": false,
    "pycharm": {
     "name": "#%%\n"
    }
   }
  },
  {
   "cell_type": "code",
   "execution_count": 17,
   "outputs": [
    {
     "data": {
      "text/plain": "array([0.71114631, 0.71061836, 0.72196925, 0.71510592, 0.68963242,\n       0.6796014 , 0.6765657 , 0.69266812, 0.70221078, 0.7030951 ,\n       0.69676104, 0.70398073, 0.71233419, 0.72064938, 0.7397875 ,\n       0.75852966, 0.73701445, 0.72936052, 0.75760575, 0.76380915,\n       0.7667551 , 0.76308322, 0.76367716, 0.75866693, 0.76044348,\n       0.76552498, 0.77080446, 0.82016762, 0.83349832, 0.82637102,\n       0.83651818, 0.83812182, 0.84102158, 0.83582921, 0.83379925,\n       0.83910777, 0.83455421, 0.83534614, 0.83824985, 0.83151851,\n       0.8357421 , 0.84894476, 0.84458523, 0.84709298, 0.84075893,\n       0.84616908, 0.84775292, 0.84237709, 0.84458655, 0.83640203,\n       0.84286016, 0.83890979, 0.83890979, 0.82567148, 0.83125454,\n       0.82927473, 0.8305946 , 0.83415825, 0.84781891, 0.84682901,\n       0.846961  , 0.85286214, 0.85250313, 0.85778526, 0.8510526 ,\n       0.82953871, 0.83943774, 0.83732594, 0.82660463, 0.83308916,\n       0.83106316, 0.82782287, 0.82643701, 0.8242909 , 0.8214215 ,\n       0.82921534, 0.82914274, 0.82716162, 0.83376229, 0.84643305,\n       0.84828087, 0.85171253, 0.85012869, 0.84709298, 0.84543523,\n       0.84504719, 0.84471722, 0.84326536, 0.84102158, 0.83956972,\n       0.8315845 , 0.82386326, 0.85989573, 0.86487164, 0.86887085,\n       0.87850723, 0.87929783, 0.88206956, 0.88022174, 0.88431334,\n       0.88180558, 0.88653732, 0.88721705, 0.88576783, 0.8857652 ,\n       0.88781099, 0.89025276, 0.88870191, 0.88693064, 0.88470138,\n       0.88789283, 0.88980664, 0.89074639, 0.89064872, 0.89244242,\n       0.89210057, 0.8918366 , 0.8918366 , 0.91163466, 0.91954728,\n       0.93124926, 0.94014519, 0.94709298, 0.9407906 , 0.94133175,\n       0.94428034, 0.94463143, 0.95096681, 0.95479443, 0.94599353,\n       0.96416551, 0.96862271, 0.98581139, 0.98145714, 0.98555666,\n       0.9744605 , 0.97384016, 0.96667327, 0.94159572, 0.96266218,\n       0.96746651, 0.96944499, 0.95981258, 0.96310962, 0.92273345,\n       0.91783805, 0.93387448, 0.95519039, 0.97150135, 0.98020722,\n       0.9848888 , 0.9866957 , 1.        , 0.9879179 , 0.98238501,\n       0.99531446, 0.98709167, 0.9938626 , 0.98105986, 0.97947601])"
     },
     "execution_count": 17,
     "metadata": {},
     "output_type": "execute_result"
    }
   ],
   "source": [
    "import numpy as np\n",
    "real_30m = np.genfromtxt(\"y_real_30m.csv\", delimiter=\",\")\n",
    "real_30m\n"
   ],
   "metadata": {
    "collapsed": false,
    "pycharm": {
     "name": "#%%\n"
    }
   }
  },
  {
   "cell_type": "code",
   "execution_count": 25,
   "outputs": [
    {
     "data": {
      "text/plain": "            1         2\n0    0.711146  0.718724\n1    0.710618  0.719804\n2    0.721969  0.719264\n3    0.715106  0.723857\n4    0.689632  0.687516\n..        ...       ...\n155  0.995314       NaN\n156  0.987092       NaN\n157  0.993863       NaN\n158  0.981060       NaN\n159  0.979476       NaN\n\n[160 rows x 2 columns]",
      "text/html": "<div>\n<style scoped>\n    .dataframe tbody tr th:only-of-type {\n        vertical-align: middle;\n    }\n\n    .dataframe tbody tr th {\n        vertical-align: top;\n    }\n\n    .dataframe thead th {\n        text-align: right;\n    }\n</style>\n<table border=\"1\" class=\"dataframe\">\n  <thead>\n    <tr style=\"text-align: right;\">\n      <th></th>\n      <th>1</th>\n      <th>2</th>\n    </tr>\n  </thead>\n  <tbody>\n    <tr>\n      <th>0</th>\n      <td>0.711146</td>\n      <td>0.718724</td>\n    </tr>\n    <tr>\n      <th>1</th>\n      <td>0.710618</td>\n      <td>0.719804</td>\n    </tr>\n    <tr>\n      <th>2</th>\n      <td>0.721969</td>\n      <td>0.719264</td>\n    </tr>\n    <tr>\n      <th>3</th>\n      <td>0.715106</td>\n      <td>0.723857</td>\n    </tr>\n    <tr>\n      <th>4</th>\n      <td>0.689632</td>\n      <td>0.687516</td>\n    </tr>\n    <tr>\n      <th>...</th>\n      <td>...</td>\n      <td>...</td>\n    </tr>\n    <tr>\n      <th>155</th>\n      <td>0.995314</td>\n      <td>NaN</td>\n    </tr>\n    <tr>\n      <th>156</th>\n      <td>0.987092</td>\n      <td>NaN</td>\n    </tr>\n    <tr>\n      <th>157</th>\n      <td>0.993863</td>\n      <td>NaN</td>\n    </tr>\n    <tr>\n      <th>158</th>\n      <td>0.981060</td>\n      <td>NaN</td>\n    </tr>\n    <tr>\n      <th>159</th>\n      <td>0.979476</td>\n      <td>NaN</td>\n    </tr>\n  </tbody>\n</table>\n<p>160 rows × 2 columns</p>\n</div>"
     },
     "execution_count": 25,
     "metadata": {},
     "output_type": "execute_result"
    }
   ],
   "source": [
    "real_30m = pd.read_csv(\"y_real_30m.csv\", header=None).transpose()\n",
    "real_60m = pd.read_csv(\"y_real_60m.csv\", header=None).transpose()\n",
    "df = pd.concat([real_30m, real_60m], axis = 1)\n"
   ],
   "metadata": {
    "collapsed": false,
    "pycharm": {
     "name": "#%%\n"
    }
   }
  }
 ],
 "metadata": {
  "kernelspec": {
   "display_name": "Python 3",
   "language": "python",
   "name": "python3"
  },
  "language_info": {
   "codemirror_mode": {
    "name": "ipython",
    "version": 2
   },
   "file_extension": ".py",
   "mimetype": "text/x-python",
   "name": "python",
   "nbconvert_exporter": "python",
   "pygments_lexer": "ipython2",
   "version": "2.7.6"
  }
 },
 "nbformat": 4,
 "nbformat_minor": 0
}