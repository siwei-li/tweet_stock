{
 "cells": [
  {
   "cell_type": "code",
   "execution_count": 1,
   "metadata": {
    "collapsed": true
   },
   "outputs": [],
   "source": [
    "import json\n",
    "import pandas as pd\n",
    "import requests"
   ]
  },
  {
   "cell_type": "code",
   "execution_count": 8,
   "outputs": [
    {
     "name": "stdout",
     "output_type": "stream",
     "text": [
      "[{'writer': 'TheStreet', 'post_date': 1569917273, 'body': \"Apple Extends Gains, European Suppliers Rise After CEO Cook's iPhone Commentshttps://thestreet.com/investing/stocks/apple-extends-gains-european-suppliers-rise-after-ceo-cook-s-iphone-comments-15109941…@mdbaccardax $AAPL\", 'comment_num': 0, 'retweet_num': 1, 'like_num': 7, 'total_engagement': 8, 'clean_text': \"Apple Extends Gains, European Suppliers Rise After CEO Cook's iPhone Commentshttps://url-extends-gains-european-suppliers-rise-after-ceo-cook-s-iphone-comments-15109941@usuario $AAPL\", 'prob': 0.7127308846, 'tweet_class': 'POS', 'post_time': '2019-10-01 08:07:53'}, {'writer': 'stocknewstimes', 'post_date': 1569917807, 'body': 'Apple $AAPL Upgraded at BidaskClub  http://thestockobserver.com/?p=2333049', 'comment_num': 0, 'retweet_num': 0, 'like_num': 0, 'total_engagement': 0, 'clean_text': 'Apple $AAPL Upgraded at BidaskClub  url/?p=233049', 'prob': 0.7019129395, 'tweet_class': 'NEU', 'post_time': '2019-10-01 08:16:47'}, {'writer': 'dakotafinancial', 'post_date': 1569917929, 'body': 'Apple $AAPL Upgraded at BidaskClub http://dakotafinancialnews.com/?p=1220068', 'comment_num': 0, 'retweet_num': 0, 'like_num': 0, 'total_engagement': 0, 'clean_text': 'Apple $AAPL Upgraded at BidaskClub url/?p=1220068', 'prob': 0.7123179436, 'tweet_class': 'NEU', 'post_time': '2019-10-01 08:18:49'}, {'writer': 'MacHashNews', 'post_date': 1569918005, 'body': 'Apple supplier TSMC counter-sues GlobalFoundries as patent fight intensifies http://dlvr.it/RFFV5B $AAPL', 'comment_num': 0, 'retweet_num': 0, 'like_num': 0, 'total_engagement': 0, 'clean_text': 'Apple supplier TSMC counter-sues GlobalFoundries as patent fight intensifies url $AAPL', 'prob': 0.9342104197, 'tweet_class': 'NEU', 'post_time': '2019-10-01 08:20:05'}, {'writer': 'stock_family', 'post_date': 1569918309, 'body': '$SPY $MRK $AAPL Goooooooooooood morning fam!', 'comment_num': 0, 'retweet_num': 0, 'like_num': 2, 'total_engagement': 2, 'clean_text': '$SPY $MRK $AAPL Good morning fam!', 'prob': 0.7969096303, 'tweet_class': 'POS', 'post_time': '2019-10-01 08:25:09'}, {'writer': 'TalkMarkets', 'post_date': 1569918455, 'body': \"It's A Fine Line Between Bullish & Bearish On #SP500 $AAPL $NFLX $SPX https://talkmarkets.com/content/us-markets/its-a-fine-line-between-bullish--bearish-on-sp500?post=235691…\", 'comment_num': 0, 'retweet_num': 0, 'like_num': 0, 'total_engagement': 0, 'clean_text': \"It's A Fine Line Between Bullish & Bearish On sp500 $AAPL $NFLX $SPX url-markets/its-a-fine-line-between-bullish--bearish-on-sp500?post=235691\", 'prob': 0.884408474, 'tweet_class': 'NEU', 'post_time': '2019-10-01 08:27:35'}, {'writer': 'NutsNGutsPep', 'post_date': 1569918779, 'body': '$AREX $ASNA El que sabe sabe $ICON $NAKD $CGIX $DPW $GE $EEM $HSGX $BAC $SPY $FB $XLF $MSFT $ABEV $NBEV $CHK $GDX $XOP $PVTL $QQQ $UVXY $TQQQ $SQQQ $NVLN $AAPL $QCOM $EFA $SOL $WWR $AIM $EROS $NIO $SNNA #reggaeton #PuertoRico #stockstowatch #StocksToTrade #latino #LatinoAmerica', 'comment_num': 0, 'retweet_num': 0, 'like_num': 0, 'total_engagement': 0, 'clean_text': '$AREX $ASNA El que sabe sabe $ICON $NAKD $CGIX $DPW $GE $EEM $HSGX $BAC $SPY $FB $XLF $MSFT $ABEV $NBEV $CHK $GDX $XOP $PVTL $QQ $UVXY $TQQ $SQQ $NVLN $AAPL $QCOM $EFA $SOL $WWR $AIM $EROS $NIO $SNNA reggaeton puerto rico stockstowatch stocks to trade latino latino america', 'prob': 0.9746447802, 'tweet_class': 'NEU', 'post_time': '2019-10-01 08:32:59'}, {'writer': 'GiffensParadox', 'post_date': 1569920081, 'body': '@jimcramer the market is controlled by three stocks. JP Morgan knew exactly what they were doing yesterday with their $AAPL call and it’s timing technically.', 'comment_num': 0, 'retweet_num': 0, 'like_num': 0, 'total_engagement': 0, 'clean_text': '@usuario the market is controlled by three stocks. JP Morgan knew exactly what they were doing yesterday with their $AAPL call and its timing technically.', 'prob': 0.9562067986, 'tweet_class': 'NEU', 'post_time': '2019-10-01 08:54:41'}, {'writer': 'treabase', 'post_date': 1569920123, 'body': '$AAPL #patent 10,427,050 Personal items network, and associated methods #tech #IP #research http://trea.com/doc/10427050', 'comment_num': 0, 'retweet_num': 0, 'like_num': 0, 'total_engagement': 0, 'clean_text': '$AAPL patent 10,427,050 Personal items network, and associated methods tech ip research url', 'prob': 0.9408649802, 'tweet_class': 'NEU', 'post_time': '2019-10-01 08:55:23'}, {'writer': 'stockhoot', 'post_date': 1569920302, 'body': '$AAPL - Winning Options trade idea by  The Grim Contango | 69.25 % return |  #TradeIdea https://stockhoot.com/ExtSymbol.aspx?srId=58260329-7d14-4749-ae3c-2474617b65c5&symbol=AAPL&t=965… &Social=Twitter', 'comment_num': 0, 'retweet_num': 0, 'like_num': 0, 'total_engagement': 0, 'clean_text': '$AAPL - Winning Options trade idea by  The Grim Contango  emoji  69.25 % return  emoji   trade idea url.aspx?srId=58260329-7d14-4749-ae3c-2474617b65c5&symbol=AAPL&t=965 &Social=Twitter', 'prob': 0.7318992615, 'tweet_class': 'POS', 'post_time': '2019-10-01 08:58:22'}]\n",
      "<Response [200]>\n",
      "[{'writer': 'papaspoppinpeny', 'post_date': 1569924231, 'body': '$PETV Breaking NewsPetVivo Inc. $3 Price Target IssuedAnd See Complete Report:  http://thestreetnow.com/spotlight/stockstobuynow/…$AAPL $AMZN', 'comment_num': 0, 'retweet_num': 0, 'like_num': 0, 'total_engagement': 0, 'clean_text': '$PETV Breaking NewsPetVivo Inc. $3 Price Target IssuedAnd See Complete Report:  url/$AAPL $AMZN', 'prob': 0.9596307278, 'tweet_class': 'NEU', 'post_time': '2019-10-01 10:03:51'}, {'writer': 'WingGirlTrade', 'post_date': 1569929204, 'body': 'Join us in the always FREE Trade Ideas trading room- mod on mic, screensharing his scans & chartsFor traders who likes to trade stocks  long/short while learning to use a.i. backtested scans, charts & algorithms$AAPL $AMZN $NFLX $GOOGL ALWAYS FREE at  http://mf.tt/y7HAQN', 'comment_num': 0, 'retweet_num': 2, 'like_num': 2, 'total_engagement': 4, 'clean_text': 'Join us in the always FREE Trade Ideas trading room- mod on mic, screensharing his scans & chartsFor traders who likes to trade stocks  long/short while learning to use a.i. backtested scans, charts & algorithms$AAPL $AMZN $NFLX $GOOGL ALWAYS FREE at  http://mf.tt/y7HAQN', 'prob': 0.5118647814, 'tweet_class': 'POS', 'post_time': '2019-10-01 11:26:44'}, {'writer': 'TradingGuru', 'post_date': 1569929963, 'body': 'RT US Stocks are OVERVALUED by 40% amidst Impeachment Inquiry of Abuse of Power, Unprecedented Fed Debt, Trade Wars created by @realDonaldTrump administration  $QQQ $MSFT $GOOG $AAPL $AMZN $NFLX $TSLA $FB', 'comment_num': 0, 'retweet_num': 0, 'like_num': 0, 'total_engagement': 0, 'clean_text': 'US Stocks are OVERVALUED by 40% amidst Impeachment Inquiry of Abuse of Power, Unprecedented Fed Debt, Trade Wars created by @usuario administration  $QQ $MSFT $GOOG $AAPL $AMZN $NFLX $TSLA $FB', 'prob': 0.9660542011, 'tweet_class': 'NEG', 'post_time': '2019-10-01 11:39:23'}, {'writer': 'cfraresearch', 'post_date': 1569931218, 'body': \"$GOOGL, $AMZN, $AAPL, and $FB face an evolving set of legal, regulatory, and policy risks. On October 2, CFRA's panel of legal and equity experts will discuss these issues in greater depth. Register today. https://bit.ly/32ESDTw\", 'comment_num': 0, 'retweet_num': 0, 'like_num': 0, 'total_engagement': 0, 'clean_text': \"$GOOGL, $AMZN, $AAPL, and $FB face an evolving set of legal, regulatory, and policy risks. On October 2, CFRA's panel of legal and equity experts will discuss these issues in greater depth. Register today. url\", 'prob': 0.8704376817, 'tweet_class': 'NEU', 'post_time': '2019-10-01 12:00:18'}, {'writer': 'mrener01', 'post_date': 1569932737, 'body': '$TLT So, bond market getting nervous over potentially end of cheap money and central bank intervention. It certainly seems plausible and certainly would trigger a domino effect for US “safe haven” equities market... so, why isn’t the $spy $qqq $amzn $aapl down? Any views?', 'comment_num': 1, 'retweet_num': 0, 'like_num': 0, 'total_engagement': 1, 'clean_text': '$TLT So, bond market getting nervous over potentially end of cheap money and central bank intervention. It certainly seems plausible and certainly would trigger a domino effect for US \"safe haven\" equities market.. so, why isnt the $spy $qq $amzn $aapl down? Any views?', 'prob': 0.7716434002, 'tweet_class': 'NEU', 'post_time': '2019-10-01 12:25:37'}, {'writer': 'TopStockAlerts1', 'post_date': 1569933459, 'body': 'Dow Jones Futures Rise, Led By JPMorgan, Goldman Sachs; Apple Stock In Buy Range$DJ_F $JPM $AAPL $AMZN', 'comment_num': 0, 'retweet_num': 0, 'like_num': 0, 'total_engagement': 0, 'clean_text': 'Dow Jones Futures Rise, Led By JPMorgan, Goldman Sachs; Apple Stock In Buy Range$DJ_F $JPM $AAPL $AMZN', 'prob': 0.9365867972, 'tweet_class': 'NEU', 'post_time': '2019-10-01 12:37:39'}, {'writer': 'SeniorsWishes', 'post_date': 1569933477, 'body': 'Hi Mike,Difficult mkts to trade, making a few bucks is a success these days.. lolIndices EMAs are starting to turn flat on the weekly charts$FAANG & lot others are not supporting melt-up, EMAs are mostly pointing down like $AMZN, $ROKU, $NFLX..etc, except $AAPL, $GOOGL', 'comment_num': 2, 'retweet_num': 0, 'like_num': 1, 'total_engagement': 3, 'clean_text': 'Hi Mike,Difficult mkts to trade, making a few bucks is a success these days.. lolIndices EMAs are starting to turn flat on the weekly charts$FAANG & lot others are not supporting melt-up, EMAs are mostly pointing down like $AMZN, $ROKU, $NFLX..etc, except $AAPL, $GOOGL', 'prob': 0.7601063848, 'tweet_class': 'NEU', 'post_time': '2019-10-01 12:37:57'}, {'writer': 'mchaudhry82', 'post_date': 1569933659, 'body': 'Stocks Making The Biggest Moves PM & More: $PM $MKC $AAPL $AMZN $EMR $CLF $X', 'comment_num': 0, 'retweet_num': 0, 'like_num': 0, 'total_engagement': 0, 'clean_text': 'Stocks Making The Biggest Moves PM & More: $PM $MKC $AAPL $AMZN $EMR $CLF $X', 'prob': 0.5726037025, 'tweet_class': 'NEU', 'post_time': '2019-10-01 12:40:59'}, {'writer': 'ScottSegen', 'post_date': 1569934162, 'body': 'Southwest pilots don’t expect Boeing 737 Max to return until February or March https://on.mktw.net/2nfgQAF AGAIN  $BA $AAPL $AMZN $FB $GOOGL $NFLX', 'comment_num': 0, 'retweet_num': 0, 'like_num': 1, 'total_engagement': 1, 'clean_text': 'Southwest pilots dont expect Boeing 737 Max to return until February or March url AGAIN  $BA $AAPL $AMZN $FB $GOOGL $NFLX', 'prob': 0.9335584641, 'tweet_class': 'NEU', 'post_time': '2019-10-01 12:49:22'}, {'writer': 'Stockdog101', 'post_date': 1569934794, 'body': '$NIO Silicon Valley Rumors: Apple Project Titan Staff Spotted At $AAPL $AMZN $F $TWTR $FB $WB $GM $TSLA $NIO', 'comment_num': 0, 'retweet_num': 0, 'like_num': 0, 'total_engagement': 0, 'clean_text': '$NIO Silicon Valley Rumors: Apple Project Titan Staff Spotted At $AAPL $AMZN $F $TWTR $FB $WB $GM $TSLA $NIO', 'prob': 0.9276823997, 'tweet_class': 'NEU', 'post_time': '2019-10-01 12:59:54'}]\n",
      "<Response [200]>\n"
     ]
    }
   ],
   "source": [
    "base_url = \"https://dsci551-sl-default-rtdb.firebaseio.com/\"\n",
    "tablenames = ['page1_AAPL', 'page1_AMZN']\n",
    "# tablenames = ['page1_AAPL']\n",
    "\n",
    "\n",
    "for tablename in tablenames:\n",
    "    df = pd.read_csv(tablename + '.csv', sep=',')\n",
    "    # print(df.head())\n",
    "    json_data = df.to_json(orient=\"records\")\n",
    "    parsed = json.loads(json_data)\n",
    "    # print(parsed[:10])\n",
    "\n",
    "    response = requests.put(url=base_url + tablename + \".json\", json=parsed)\n",
    "    print(response)"
   ],
   "metadata": {
    "collapsed": false,
    "pycharm": {
     "name": "#%%\n"
    }
   }
  },
  {
   "cell_type": "code",
   "execution_count": 9,
   "outputs": [
    {
     "name": "stdout",
     "output_type": "stream",
     "text": [
      "[{'day_date': '2019-12-27', 'close_value': 289.8, 'volume': 36592940, 'open_value': 291.12, 'high_value': 293.97, 'low_value': 288.12}, {'day_date': '2019-12-26', 'close_value': 289.91, 'volume': 23334000, 'open_value': 284.82, 'high_value': 289.98, 'low_value': 284.7}, {'day_date': '2019-12-24', 'close_value': 284.27, 'volume': 12119710, 'open_value': 284.69, 'high_value': 284.89, 'low_value': 282.9197}, {'day_date': '2019-12-23', 'close_value': 284.0, 'volume': 24677880, 'open_value': 280.53, 'high_value': 284.25, 'low_value': 280.3735}, {'day_date': '2019-12-20', 'close_value': 279.44, 'volume': 69032740, 'open_value': 282.23, 'high_value': 282.65, 'low_value': 278.56}, {'day_date': '2019-12-19', 'close_value': 280.02, 'volume': 24626950, 'open_value': 279.5, 'high_value': 281.18, 'low_value': 278.95}, {'day_date': '2019-12-18', 'close_value': 279.74, 'volume': 29024690, 'open_value': 279.8, 'high_value': 281.9, 'low_value': 279.12}, {'day_date': '2019-12-17', 'close_value': 280.41, 'volume': 28575800, 'open_value': 279.57, 'high_value': 281.77, 'low_value': 278.8}, {'day_date': '2019-12-16', 'close_value': 279.86, 'volume': 32081110, 'open_value': 277.0, 'high_value': 280.79, 'low_value': 276.98}, {'day_date': '2019-12-13', 'close_value': 275.15, 'volume': 33432810, 'open_value': 271.46, 'high_value': 275.3, 'low_value': 270.93}]\n",
      "<Response [200]>\n",
      "[{'day_date': '2019-12-27', 'close_value': 1869.8, 'volume': 6188754, 'open_value': 1882.92, 'high_value': 1901.4, 'low_value': 1866.01}, {'day_date': '2019-12-26', 'close_value': 1868.77, 'volume': 6024608, 'open_value': 1801.01, 'high_value': 1870.46, 'low_value': 1799.5}, {'day_date': '2019-12-24', 'close_value': 1789.21, 'volume': 881337, 'open_value': 1793.81, 'high_value': 1795.57, 'low_value': 1787.575}, {'day_date': '2019-12-23', 'close_value': 1793.0, 'volume': 2137493, 'open_value': 1788.26, 'high_value': 1793.0, 'low_value': 1784.51}, {'day_date': '2019-12-20', 'close_value': 1786.5, 'volume': 5152460, 'open_value': 1799.615, 'high_value': 1802.97, 'low_value': 1782.45}, {'day_date': '2019-12-19', 'close_value': 1792.28, 'volume': 2738320, 'open_value': 1780.5, 'high_value': 1792.99, 'low_value': 1774.06}, {'day_date': '2019-12-18', 'close_value': 1784.03, 'volume': 3354137, 'open_value': 1795.02, 'high_value': 1798.2, 'low_value': 1782.36}, {'day_date': '2019-12-17', 'close_value': 1790.66, 'volume': 3646697, 'open_value': 1778.01, 'high_value': 1792.0, 'low_value': 1777.39}, {'day_date': '2019-12-16', 'close_value': 1769.21, 'volume': 3149345, 'open_value': 1767.0, 'high_value': 1769.5, 'low_value': 1757.05}, {'day_date': '2019-12-13', 'close_value': 1760.94, 'volume': 2747909, 'open_value': 1765.0, 'high_value': 1768.99, 'low_value': 1755.0}]\n",
      "<Response [200]>\n",
      "[{'day_date': '2019-12-27', 'close_value': 1351.89, 'volume': 1038718, 'open_value': 1362.99, 'high_value': 1364.53, 'low_value': 1349.31}, {'day_date': '2019-12-26', 'close_value': 1360.4, 'volume': 667754, 'open_value': 1346.17, 'high_value': 1361.3269, 'low_value': 1344.47}, {'day_date': '2019-12-24', 'close_value': 1343.56, 'volume': 347518, 'open_value': 1348.5, 'high_value': 1350.26, 'low_value': 1342.78}, {'day_date': '2019-12-23', 'close_value': 1348.84, 'volume': 883200, 'open_value': 1355.87, 'high_value': 1359.7999, 'low_value': 1346.51}, {'day_date': '2019-12-20', 'close_value': 1349.59, 'volume': 3316905, 'open_value': 1363.35, 'high_value': 1363.64, 'low_value': 1349.0}, {'day_date': '2019-12-19', 'close_value': 1356.04, 'volume': 1470112, 'open_value': 1351.82, 'high_value': 1358.1, 'low_value': 1348.985}, {'day_date': '2019-12-18', 'close_value': 1352.62, 'volume': 1657069, 'open_value': 1356.6, 'high_value': 1360.47, 'low_value': 1351.0}, {'day_date': '2019-12-17', 'close_value': 1355.12, 'volume': 1855259, 'open_value': 1362.89, 'high_value': 1365.0, 'low_value': 1351.3231}, {'day_date': '2019-12-16', 'close_value': 1361.17, 'volume': 1397451, 'open_value': 1356.5, 'high_value': 1364.68, 'low_value': 1352.67}, {'day_date': '2019-12-13', 'close_value': 1347.83, 'volume': 1550028, 'open_value': 1347.95, 'high_value': 1353.0931, 'low_value': 1343.87}]\n",
      "<Response [200]>\n",
      "[{'day_date': '2019-12-27', 'close_value': 1354.64, 'volume': 1160873, 'open_value': 1364.0, 'high_value': 1367.07, 'low_value': 1353.0}, {'day_date': '2019-12-26', 'close_value': 1362.47, 'volume': 1183800, 'open_value': 1346.55, 'high_value': 1363.2, 'low_value': 1345.51}, {'day_date': '2019-12-24', 'close_value': 1344.43, 'volume': 673410, 'open_value': 1350.21, 'high_value': 1352.01, 'low_value': 1344.165}, {'day_date': '2019-12-23', 'close_value': 1350.63, 'volume': 996967, 'open_value': 1358.73, 'high_value': 1361.854, 'low_value': 1348.0}, {'day_date': '2019-12-20', 'close_value': 1351.22, 'volume': 2513849, 'open_value': 1363.1, 'high_value': 1364.0, 'low_value': 1350.73}, {'day_date': '2019-12-19', 'close_value': 1356.44, 'volume': 1521082, 'open_value': 1351.91, 'high_value': 1357.5259, 'low_value': 1348.7507}, {'day_date': '2019-12-18', 'close_value': 1351.91, 'volume': 1166733, 'open_value': 1357.0, 'high_value': 1359.43, 'low_value': 1350.46}, {'day_date': '2019-12-17', 'close_value': 1354.89, 'volume': 1648549, 'open_value': 1362.41, 'high_value': 1364.33, 'low_value': 1350.77}, {'day_date': '2019-12-16', 'close_value': 1360.7, 'volume': 1406457, 'open_value': 1355.0, 'high_value': 1363.53, 'low_value': 1350.61}, {'day_date': '2019-12-13', 'close_value': 1346.87, 'volume': 1658684, 'open_value': 1347.9, 'high_value': 1351.35, 'low_value': 1341.66}]\n",
      "<Response [200]>\n",
      "[{'day_date': '2019-12-27', 'close_value': 158.96, 'volume': 18414350, 'open_value': 159.45, 'high_value': 159.55, 'low_value': 158.22}, {'day_date': '2019-12-26', 'close_value': 158.67, 'volume': 14526930, 'open_value': 157.56, 'high_value': 158.73, 'low_value': 157.4}, {'day_date': '2019-12-24', 'close_value': 157.38, 'volume': 8989150, 'open_value': 157.48, 'high_value': 157.71, 'low_value': 157.115}, {'day_date': '2019-12-23', 'close_value': 157.41, 'volume': 17726280, 'open_value': 158.12, 'high_value': 158.12, 'low_value': 157.27}, {'day_date': '2019-12-20', 'close_value': 157.41, 'volume': 53599610, 'open_value': 157.35, 'high_value': 158.49, 'low_value': 156.29}, {'day_date': '2019-12-19', 'close_value': 155.71, 'volume': 25813830, 'open_value': 154.0, 'high_value': 155.77, 'low_value': 153.75}, {'day_date': '2019-12-18', 'close_value': 154.37, 'volume': 24132380, 'open_value': 154.3, 'high_value': 155.48, 'low_value': 154.18}, {'day_date': '2019-12-17', 'close_value': 154.69, 'volume': 25443530, 'open_value': 155.45, 'high_value': 155.71, 'low_value': 154.45}, {'day_date': '2019-12-16', 'close_value': 155.53, 'volume': 24152770, 'open_value': 155.11, 'high_value': 155.9, 'low_value': 154.82}, {'day_date': '2019-12-13', 'close_value': 154.53, 'volume': 23850060, 'open_value': 153.004, 'high_value': 154.89, 'low_value': 152.83}]\n",
      "<Response [200]>\n",
      "[{'day_date': '2019-12-27', 'close_value': 430.38, 'volume': 9956827, 'open_value': 435.0, 'high_value': 435.31, 'low_value': 426.11}, {'day_date': '2019-12-26', 'close_value': 430.94, 'volume': 10648290, 'open_value': 427.91, 'high_value': 433.48, 'low_value': 426.35}, {'day_date': '2019-12-24', 'close_value': 425.25, 'volume': 8054720, 'open_value': 418.36, 'high_value': 425.47, 'low_value': 412.6875}, {'day_date': '2019-12-23', 'close_value': 419.22, 'volume': 13332820, 'open_value': 411.78, 'high_value': 422.01, 'low_value': 410.0}, {'day_date': '2019-12-20', 'close_value': 405.59, 'volume': 14785210, 'open_value': 410.29, 'high_value': 413.0, 'low_value': 400.185}, {'day_date': '2019-12-19', 'close_value': 404.04, 'volume': 18120310, 'open_value': 397.32, 'high_value': 406.85, 'low_value': 396.5}, {'day_date': '2019-12-18', 'close_value': 393.15, 'volume': 14136390, 'open_value': 380.63, 'high_value': 395.22, 'low_value': 380.58}, {'day_date': '2019-12-17', 'close_value': 378.99, 'volume': 8503775, 'open_value': 378.99, 'high_value': 385.5, 'low_value': 375.9}, {'day_date': '2019-12-16', 'close_value': 381.5, 'volume': 18220940, 'open_value': 362.55, 'high_value': 383.61, 'low_value': 362.5}, {'day_date': '2019-12-13', 'close_value': 358.39, 'volume': 6574281, 'open_value': 361.05, 'high_value': 365.21, 'low_value': 354.64}]\n",
      "<Response [200]>\n"
     ]
    }
   ],
   "source": [
    "tickers = ['AAPL','AMZN','GOOG', 'GOOGL', \"MSFT\", \"TSLA\"]\n",
    "for ticker in tickers:\n",
    "    df = pd.read_csv(f'../kaggle_data/prices_{ticker}.csv')\n",
    "    json_data = df.to_json(orient=\"records\")\n",
    "    parsed = json.loads(json_data)\n",
    "    print(parsed[:10])\n",
    "\n",
    "    response = requests.put(url=base_url + f\"prices_{ticker}\" + \".json\", json=parsed)\n",
    "    print(response)"
   ],
   "metadata": {
    "collapsed": false,
    "pycharm": {
     "name": "#%%\n"
    }
   }
  },
  {
   "cell_type": "code",
   "execution_count": 16,
   "outputs": [],
   "source": [
    "#test\n",
    "\n",
    "# params = {\"orderBy\": '\"day_date\"'}\n",
    "headers = {'accept': 'application/json'}\n",
    "response = requests.get(url=base_url + 'prices_AAPL.json', headers=headers)\n",
    "df = pd.DataFrame(response.json())\n",
    "\n",
    "df"
   ],
   "metadata": {
    "collapsed": false,
    "pycharm": {
     "name": "#%%\n"
    }
   }
  },
  {
   "cell_type": "code",
   "execution_count": 32,
   "outputs": [
    {
     "data": {
      "text/plain": "    close_value    day_date  high_value  low_value  open_value    volume\n0        289.80  2019-12-27      293.97   288.1200      291.12  36592940\n1        289.91  2019-12-26      289.98   284.7000      284.82  23334000\n2        284.27  2019-12-24      284.89   282.9197      284.69  12119710\n3        284.00  2019-12-23      284.25   280.3735      280.53  24677880\n4        279.44  2019-12-20      282.65   278.5600      282.23  69032740\n..          ...         ...         ...        ...         ...       ...\n85       279.44  2019-12-21      282.65   278.5600      282.23  69032740\n86       279.44  2019-12-22      282.65   278.5600      282.23  69032740\n87       284.27  2019-12-25      284.89   282.9197      284.69  12119710\n88       289.80  2019-12-28      293.97   288.1200      291.12  36592940\n89       289.80  2019-12-29      293.97   288.1200      291.12  36592940\n\n[90 rows x 6 columns]",
      "text/html": "<div>\n<style scoped>\n    .dataframe tbody tr th:only-of-type {\n        vertical-align: middle;\n    }\n\n    .dataframe tbody tr th {\n        vertical-align: top;\n    }\n\n    .dataframe thead th {\n        text-align: right;\n    }\n</style>\n<table border=\"1\" class=\"dataframe\">\n  <thead>\n    <tr style=\"text-align: right;\">\n      <th></th>\n      <th>close_value</th>\n      <th>day_date</th>\n      <th>high_value</th>\n      <th>low_value</th>\n      <th>open_value</th>\n      <th>volume</th>\n    </tr>\n  </thead>\n  <tbody>\n    <tr>\n      <th>0</th>\n      <td>289.80</td>\n      <td>2019-12-27</td>\n      <td>293.97</td>\n      <td>288.1200</td>\n      <td>291.12</td>\n      <td>36592940</td>\n    </tr>\n    <tr>\n      <th>1</th>\n      <td>289.91</td>\n      <td>2019-12-26</td>\n      <td>289.98</td>\n      <td>284.7000</td>\n      <td>284.82</td>\n      <td>23334000</td>\n    </tr>\n    <tr>\n      <th>2</th>\n      <td>284.27</td>\n      <td>2019-12-24</td>\n      <td>284.89</td>\n      <td>282.9197</td>\n      <td>284.69</td>\n      <td>12119710</td>\n    </tr>\n    <tr>\n      <th>3</th>\n      <td>284.00</td>\n      <td>2019-12-23</td>\n      <td>284.25</td>\n      <td>280.3735</td>\n      <td>280.53</td>\n      <td>24677880</td>\n    </tr>\n    <tr>\n      <th>4</th>\n      <td>279.44</td>\n      <td>2019-12-20</td>\n      <td>282.65</td>\n      <td>278.5600</td>\n      <td>282.23</td>\n      <td>69032740</td>\n    </tr>\n    <tr>\n      <th>...</th>\n      <td>...</td>\n      <td>...</td>\n      <td>...</td>\n      <td>...</td>\n      <td>...</td>\n      <td>...</td>\n    </tr>\n    <tr>\n      <th>85</th>\n      <td>279.44</td>\n      <td>2019-12-21</td>\n      <td>282.65</td>\n      <td>278.5600</td>\n      <td>282.23</td>\n      <td>69032740</td>\n    </tr>\n    <tr>\n      <th>86</th>\n      <td>279.44</td>\n      <td>2019-12-22</td>\n      <td>282.65</td>\n      <td>278.5600</td>\n      <td>282.23</td>\n      <td>69032740</td>\n    </tr>\n    <tr>\n      <th>87</th>\n      <td>284.27</td>\n      <td>2019-12-25</td>\n      <td>284.89</td>\n      <td>282.9197</td>\n      <td>284.69</td>\n      <td>12119710</td>\n    </tr>\n    <tr>\n      <th>88</th>\n      <td>289.80</td>\n      <td>2019-12-28</td>\n      <td>293.97</td>\n      <td>288.1200</td>\n      <td>291.12</td>\n      <td>36592940</td>\n    </tr>\n    <tr>\n      <th>89</th>\n      <td>289.80</td>\n      <td>2019-12-29</td>\n      <td>293.97</td>\n      <td>288.1200</td>\n      <td>291.12</td>\n      <td>36592940</td>\n    </tr>\n  </tbody>\n</table>\n<p>90 rows × 6 columns</p>\n</div>"
     },
     "execution_count": 32,
     "metadata": {},
     "output_type": "execute_result"
    }
   ],
   "source": [
    "headers = {'accept': 'application/json'}\n",
    "response = requests.get(url=base_url + 'prices_AAPL.json', headers=headers)\n",
    "assert response.status_code == 200\n",
    "price_df = pd.DataFrame(response.json())\n",
    "print(price_df.head)\n",
    "\n"
   ],
   "metadata": {
    "collapsed": false,
    "pycharm": {
     "name": "#%%\n"
    }
   }
  }
 ],
 "metadata": {
  "kernelspec": {
   "display_name": "Python 3",
   "language": "python",
   "name": "python3"
  },
  "language_info": {
   "codemirror_mode": {
    "name": "ipython",
    "version": 2
   },
   "file_extension": ".py",
   "mimetype": "text/x-python",
   "name": "python",
   "nbconvert_exporter": "python",
   "pygments_lexer": "ipython2",
   "version": "2.7.6"
  }
 },
 "nbformat": 4,
 "nbformat_minor": 0
}