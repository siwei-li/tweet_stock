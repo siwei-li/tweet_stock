{
 "cells": [
  {
   "cell_type": "code",
   "execution_count": 7,
   "metadata": {
    "collapsed": true
   },
   "outputs": [],
   "source": [
    "import pandas as pd\n",
    "\n",
    "def get_price_df(ticker):\n",
    "    price = pd.read_parquet(f'../kaggle_data/prices_{ticker}.parquet')\n",
    "    price = price[(price[\"post_date\"]>=1569913201) & (price[\"post_date\"]<1577865600)]\n",
    "\n",
    "    price.sort_values(by='day_date', ascending=True, inplace=True)\n",
    "    return price\n",
    "# price_df = get_price_df(\"AAPL\")"
   ]
  },
  {
   "cell_type": "code",
   "execution_count": 5,
   "outputs": [
    {
     "ename": "ArrowInvalid",
     "evalue": "Could not open Parquet input source '<Buffer>': Parquet magic bytes not found in footer. Either the file is corrupted or this is not a parquet file.",
     "output_type": "error",
     "traceback": [
      "\u001B[0;31m---------------------------------------------------------------------------\u001B[0m",
      "\u001B[0;31mArrowInvalid\u001B[0m                              Traceback (most recent call last)",
      "\u001B[0;32m/var/folders/tf/kt2z64bn72lfmzbccyrlf4xr0000gn/T/ipykernel_3090/3753649915.py\u001B[0m in \u001B[0;36m<module>\u001B[0;34m\u001B[0m\n\u001B[1;32m      8\u001B[0m \u001B[0;34m\u001B[0m\u001B[0m\n\u001B[1;32m      9\u001B[0m \u001B[0;32mfor\u001B[0m \u001B[0mcompany\u001B[0m \u001B[0;32min\u001B[0m \u001B[0;34m[\u001B[0m\u001B[0;34m'AAPL'\u001B[0m\u001B[0;34m,\u001B[0m \u001B[0;34m'AMZN'\u001B[0m\u001B[0;34m]\u001B[0m\u001B[0;34m:\u001B[0m\u001B[0;34m\u001B[0m\u001B[0;34m\u001B[0m\u001B[0m\n\u001B[0;32m---> 10\u001B[0;31m     \u001B[0mtoprice\u001B[0m\u001B[0;34m(\u001B[0m\u001B[0mcompany\u001B[0m\u001B[0;34m)\u001B[0m\u001B[0;34m\u001B[0m\u001B[0;34m\u001B[0m\u001B[0m\n\u001B[0m",
      "\u001B[0;32m/var/folders/tf/kt2z64bn72lfmzbccyrlf4xr0000gn/T/ipykernel_3090/3753649915.py\u001B[0m in \u001B[0;36mtoprice\u001B[0;34m(ticker)\u001B[0m\n\u001B[1;32m      1\u001B[0m \u001B[0;32mimport\u001B[0m \u001B[0mpandas\u001B[0m \u001B[0;32mas\u001B[0m \u001B[0mpd\u001B[0m\u001B[0;34m\u001B[0m\u001B[0;34m\u001B[0m\u001B[0m\n\u001B[1;32m      2\u001B[0m \u001B[0;32mdef\u001B[0m \u001B[0mtoprice\u001B[0m\u001B[0;34m(\u001B[0m\u001B[0mticker\u001B[0m\u001B[0;34m)\u001B[0m\u001B[0;34m:\u001B[0m\u001B[0;34m\u001B[0m\u001B[0;34m\u001B[0m\u001B[0m\n\u001B[0;32m----> 3\u001B[0;31m     \u001B[0mprice\u001B[0m \u001B[0;34m=\u001B[0m \u001B[0mpd\u001B[0m\u001B[0;34m.\u001B[0m\u001B[0mread_parquet\u001B[0m\u001B[0;34m(\u001B[0m\u001B[0;34mf'../kaggle_data/prices_{ticker}.parquet'\u001B[0m\u001B[0;34m)\u001B[0m\u001B[0;34m\u001B[0m\u001B[0;34m\u001B[0m\u001B[0m\n\u001B[0m\u001B[1;32m      4\u001B[0m     \u001B[0mprice\u001B[0m \u001B[0;34m=\u001B[0m \u001B[0mprice\u001B[0m\u001B[0;34m[\u001B[0m\u001B[0;34m(\u001B[0m\u001B[0mprice\u001B[0m\u001B[0;34m[\u001B[0m\u001B[0;34m\"day_date\"\u001B[0m\u001B[0;34m]\u001B[0m\u001B[0;34m>=\u001B[0m\u001B[0;34m'1569913201'\u001B[0m\u001B[0;34m)\u001B[0m \u001B[0;34m&\u001B[0m \u001B[0;34m(\u001B[0m\u001B[0mprice\u001B[0m\u001B[0;34m[\u001B[0m\u001B[0;34m\"day_date\"\u001B[0m\u001B[0;34m]\u001B[0m\u001B[0;34m<\u001B[0m\u001B[0;34m'1577865600'\u001B[0m\u001B[0;34m)\u001B[0m\u001B[0;34m]\u001B[0m\u001B[0;34m\u001B[0m\u001B[0;34m\u001B[0m\u001B[0m\n\u001B[1;32m      5\u001B[0m \u001B[0;34m\u001B[0m\u001B[0m\n",
      "\u001B[0;32m/opt/homebrew/Caskroom/miniforge/base/envs/551proj/lib/python3.8/site-packages/pandas/io/parquet.py\u001B[0m in \u001B[0;36mread_parquet\u001B[0;34m(path, engine, columns, storage_options, use_nullable_dtypes, **kwargs)\u001B[0m\n\u001B[1;32m    493\u001B[0m     \u001B[0mimpl\u001B[0m \u001B[0;34m=\u001B[0m \u001B[0mget_engine\u001B[0m\u001B[0;34m(\u001B[0m\u001B[0mengine\u001B[0m\u001B[0;34m)\u001B[0m\u001B[0;34m\u001B[0m\u001B[0;34m\u001B[0m\u001B[0m\n\u001B[1;32m    494\u001B[0m \u001B[0;34m\u001B[0m\u001B[0m\n\u001B[0;32m--> 495\u001B[0;31m     return impl.read(\n\u001B[0m\u001B[1;32m    496\u001B[0m         \u001B[0mpath\u001B[0m\u001B[0;34m,\u001B[0m\u001B[0;34m\u001B[0m\u001B[0;34m\u001B[0m\u001B[0m\n\u001B[1;32m    497\u001B[0m         \u001B[0mcolumns\u001B[0m\u001B[0;34m=\u001B[0m\u001B[0mcolumns\u001B[0m\u001B[0;34m,\u001B[0m\u001B[0;34m\u001B[0m\u001B[0;34m\u001B[0m\u001B[0m\n",
      "\u001B[0;32m/opt/homebrew/Caskroom/miniforge/base/envs/551proj/lib/python3.8/site-packages/pandas/io/parquet.py\u001B[0m in \u001B[0;36mread\u001B[0;34m(self, path, columns, use_nullable_dtypes, storage_options, **kwargs)\u001B[0m\n\u001B[1;32m    237\u001B[0m         )\n\u001B[1;32m    238\u001B[0m         \u001B[0;32mtry\u001B[0m\u001B[0;34m:\u001B[0m\u001B[0;34m\u001B[0m\u001B[0;34m\u001B[0m\u001B[0m\n\u001B[0;32m--> 239\u001B[0;31m             result = self.api.parquet.read_table(\n\u001B[0m\u001B[1;32m    240\u001B[0m                 \u001B[0mpath_or_handle\u001B[0m\u001B[0;34m,\u001B[0m \u001B[0mcolumns\u001B[0m\u001B[0;34m=\u001B[0m\u001B[0mcolumns\u001B[0m\u001B[0;34m,\u001B[0m \u001B[0;34m**\u001B[0m\u001B[0mkwargs\u001B[0m\u001B[0;34m\u001B[0m\u001B[0;34m\u001B[0m\u001B[0m\n\u001B[1;32m    241\u001B[0m             ).to_pandas(**to_pandas_kwargs)\n",
      "\u001B[0;32m/opt/homebrew/Caskroom/miniforge/base/envs/551proj/lib/python3.8/site-packages/pyarrow/parquet.py\u001B[0m in \u001B[0;36mread_table\u001B[0;34m(source, columns, use_threads, metadata, use_pandas_metadata, memory_map, read_dictionary, filesystem, filters, buffer_size, partitioning, use_legacy_dataset, ignore_prefixes, pre_buffer, coerce_int96_timestamp_unit)\u001B[0m\n\u001B[1;32m   1857\u001B[0m             )\n\u001B[1;32m   1858\u001B[0m         \u001B[0;32mtry\u001B[0m\u001B[0;34m:\u001B[0m\u001B[0;34m\u001B[0m\u001B[0;34m\u001B[0m\u001B[0m\n\u001B[0;32m-> 1859\u001B[0;31m             dataset = _ParquetDatasetV2(\n\u001B[0m\u001B[1;32m   1860\u001B[0m                 \u001B[0msource\u001B[0m\u001B[0;34m,\u001B[0m\u001B[0;34m\u001B[0m\u001B[0;34m\u001B[0m\u001B[0m\n\u001B[1;32m   1861\u001B[0m                 \u001B[0mfilesystem\u001B[0m\u001B[0;34m=\u001B[0m\u001B[0mfilesystem\u001B[0m\u001B[0;34m,\u001B[0m\u001B[0;34m\u001B[0m\u001B[0;34m\u001B[0m\u001B[0m\n",
      "\u001B[0;32m/opt/homebrew/Caskroom/miniforge/base/envs/551proj/lib/python3.8/site-packages/pyarrow/parquet.py\u001B[0m in \u001B[0;36m__init__\u001B[0;34m(self, path_or_paths, filesystem, filters, partitioning, read_dictionary, buffer_size, memory_map, ignore_prefixes, pre_buffer, coerce_int96_timestamp_unit, **kwargs)\u001B[0m\n\u001B[1;32m   1677\u001B[0m \u001B[0;34m\u001B[0m\u001B[0m\n\u001B[1;32m   1678\u001B[0m             self._dataset = ds.FileSystemDataset(\n\u001B[0;32m-> 1679\u001B[0;31m                 \u001B[0;34m[\u001B[0m\u001B[0mfragment\u001B[0m\u001B[0;34m]\u001B[0m\u001B[0;34m,\u001B[0m \u001B[0mschema\u001B[0m\u001B[0;34m=\u001B[0m\u001B[0mfragment\u001B[0m\u001B[0;34m.\u001B[0m\u001B[0mphysical_schema\u001B[0m\u001B[0;34m,\u001B[0m\u001B[0;34m\u001B[0m\u001B[0;34m\u001B[0m\u001B[0m\n\u001B[0m\u001B[1;32m   1680\u001B[0m                 \u001B[0mformat\u001B[0m\u001B[0;34m=\u001B[0m\u001B[0mparquet_format\u001B[0m\u001B[0;34m,\u001B[0m\u001B[0;34m\u001B[0m\u001B[0;34m\u001B[0m\u001B[0m\n\u001B[1;32m   1681\u001B[0m                 \u001B[0mfilesystem\u001B[0m\u001B[0;34m=\u001B[0m\u001B[0mfragment\u001B[0m\u001B[0;34m.\u001B[0m\u001B[0mfilesystem\u001B[0m\u001B[0;34m\u001B[0m\u001B[0;34m\u001B[0m\u001B[0m\n",
      "\u001B[0;32m/opt/homebrew/Caskroom/miniforge/base/envs/551proj/lib/python3.8/site-packages/pyarrow/_dataset.pyx\u001B[0m in \u001B[0;36mpyarrow._dataset.Fragment.physical_schema.__get__\u001B[0;34m()\u001B[0m\n",
      "\u001B[0;32m/opt/homebrew/Caskroom/miniforge/base/envs/551proj/lib/python3.8/site-packages/pyarrow/error.pxi\u001B[0m in \u001B[0;36mpyarrow.lib.pyarrow_internal_check_status\u001B[0;34m()\u001B[0m\n",
      "\u001B[0;32m/opt/homebrew/Caskroom/miniforge/base/envs/551proj/lib/python3.8/site-packages/pyarrow/error.pxi\u001B[0m in \u001B[0;36mpyarrow.lib.check_status\u001B[0;34m()\u001B[0m\n",
      "\u001B[0;31mArrowInvalid\u001B[0m: Could not open Parquet input source '<Buffer>': Parquet magic bytes not found in footer. Either the file is corrupted or this is not a parquet file."
     ]
    }
   ],
   "source": [
    "import pandas as pd\n",
    "def toprice(ticker):\n",
    "    price = pd.read_parquet(f'../kaggle_data/prices_{ticker}.parquet')\n",
    "    price = price[(price[\"day_date\"]>='1569913201') & (price[\"day_date\"]<'1577865600')]\n",
    "\n",
    "    price.sort_values(by='day_date', ascending=True, inplace=True)\n",
    "    price.to_csv(f'../kaggle_data/prices_{ticker}.csv', index=False)\n",
    "\n",
    "for company in ['AAPL', 'AMZN']:\n",
    "    toprice(company)"
   ],
   "metadata": {
    "collapsed": false,
    "pycharm": {
     "name": "#%%\n"
    }
   }
  },
  {
   "cell_type": "code",
   "execution_count": 9,
   "outputs": [
    {
     "data": {
      "text/plain": "        day_date  close_value   volume  open_value  high_value  low_value\n2516  2010-06-01       123.24  3650661      124.97    126.5720   123.0200\n2515  2010-06-02       126.31  4747192      124.02    126.4300   121.6500\n2514  2010-06-03       128.76  5272208      126.25    129.1500   124.8500\n2513  2010-06-04       122.77  5466912      126.33    128.2000   122.1800\n2512  2010-06-07       122.01  6558899      125.84    126.6060   121.6744\n...          ...          ...      ...         ...         ...        ...\n4     2020-05-22      2436.88  2867079     2455.01   2469.8500  2430.1300\n3     2020-05-26      2421.86  3568153     2458.00   2462.0000  2414.0600\n2     2020-05-27      2410.39  5056945     2404.99   2413.5800  2330.0000\n1     2020-05-28      2401.10  3193136     2384.33   2436.9699  2378.2300\n0     2020-05-29      2442.37  3529329     2415.94   2442.3700  2398.1973\n\n[3085 rows x 6 columns]",
      "text/html": "<div>\n<style scoped>\n    .dataframe tbody tr th:only-of-type {\n        vertical-align: middle;\n    }\n\n    .dataframe tbody tr th {\n        vertical-align: top;\n    }\n\n    .dataframe thead th {\n        text-align: right;\n    }\n</style>\n<table border=\"1\" class=\"dataframe\">\n  <thead>\n    <tr style=\"text-align: right;\">\n      <th></th>\n      <th>day_date</th>\n      <th>close_value</th>\n      <th>volume</th>\n      <th>open_value</th>\n      <th>high_value</th>\n      <th>low_value</th>\n    </tr>\n  </thead>\n  <tbody>\n    <tr>\n      <th>2516</th>\n      <td>2010-06-01</td>\n      <td>123.24</td>\n      <td>3650661</td>\n      <td>124.97</td>\n      <td>126.5720</td>\n      <td>123.0200</td>\n    </tr>\n    <tr>\n      <th>2515</th>\n      <td>2010-06-02</td>\n      <td>126.31</td>\n      <td>4747192</td>\n      <td>124.02</td>\n      <td>126.4300</td>\n      <td>121.6500</td>\n    </tr>\n    <tr>\n      <th>2514</th>\n      <td>2010-06-03</td>\n      <td>128.76</td>\n      <td>5272208</td>\n      <td>126.25</td>\n      <td>129.1500</td>\n      <td>124.8500</td>\n    </tr>\n    <tr>\n      <th>2513</th>\n      <td>2010-06-04</td>\n      <td>122.77</td>\n      <td>5466912</td>\n      <td>126.33</td>\n      <td>128.2000</td>\n      <td>122.1800</td>\n    </tr>\n    <tr>\n      <th>2512</th>\n      <td>2010-06-07</td>\n      <td>122.01</td>\n      <td>6558899</td>\n      <td>125.84</td>\n      <td>126.6060</td>\n      <td>121.6744</td>\n    </tr>\n    <tr>\n      <th>...</th>\n      <td>...</td>\n      <td>...</td>\n      <td>...</td>\n      <td>...</td>\n      <td>...</td>\n      <td>...</td>\n    </tr>\n    <tr>\n      <th>4</th>\n      <td>2020-05-22</td>\n      <td>2436.88</td>\n      <td>2867079</td>\n      <td>2455.01</td>\n      <td>2469.8500</td>\n      <td>2430.1300</td>\n    </tr>\n    <tr>\n      <th>3</th>\n      <td>2020-05-26</td>\n      <td>2421.86</td>\n      <td>3568153</td>\n      <td>2458.00</td>\n      <td>2462.0000</td>\n      <td>2414.0600</td>\n    </tr>\n    <tr>\n      <th>2</th>\n      <td>2020-05-27</td>\n      <td>2410.39</td>\n      <td>5056945</td>\n      <td>2404.99</td>\n      <td>2413.5800</td>\n      <td>2330.0000</td>\n    </tr>\n    <tr>\n      <th>1</th>\n      <td>2020-05-28</td>\n      <td>2401.10</td>\n      <td>3193136</td>\n      <td>2384.33</td>\n      <td>2436.9699</td>\n      <td>2378.2300</td>\n    </tr>\n    <tr>\n      <th>0</th>\n      <td>2020-05-29</td>\n      <td>2442.37</td>\n      <td>3529329</td>\n      <td>2415.94</td>\n      <td>2442.3700</td>\n      <td>2398.1973</td>\n    </tr>\n  </tbody>\n</table>\n<p>3085 rows × 6 columns</p>\n</div>"
     },
     "execution_count": 9,
     "metadata": {},
     "output_type": "execute_result"
    }
   ],
   "source": [
    "price_df = get_price_df(\"AMZN\")\n",
    "price_df"
   ],
   "metadata": {
    "collapsed": false,
    "pycharm": {
     "name": "#%%\n"
    }
   }
  },
  {
   "cell_type": "code",
   "execution_count": 21,
   "outputs": [
    {
     "name": "stdout",
     "output_type": "stream",
     "text": [
      "       <DATE>  <TIME>    <OPEN>  <HIGH>     <LOW>   <CLOSE>    <VOL>\n",
      "0    20191001  100000  225.1300  228.22  224.7000  228.0700  5817890\n",
      "1    20191001  110000  228.0500  228.08  225.8389  226.1900  6433067\n",
      "2    20191001  120000  226.1800  227.66  225.9600  226.2700  3025182\n",
      "3    20191001  130000  226.2600  226.28  225.3100  225.3900  2946829\n",
      "4    20191001  140000  225.3600  225.52  224.4200  224.8915  2928388\n",
      "..        ...     ...       ...     ...       ...       ...      ...\n",
      "443  20191231  120000  291.0651  292.26  290.9800  292.0400  2428187\n",
      "444  20191231  130000  292.0500  292.47  291.7300  292.0600  1555553\n",
      "445  20191231  140000  292.0400  292.30  291.8800  292.2057  1242000\n",
      "446  20191231  150000  292.2100  292.47  291.9900  292.3600  1470821\n",
      "447  20191231  160000  292.3500  293.68  292.2600  293.3700  5214313\n",
      "\n",
      "[448 rows x 7 columns]\n"
     ]
    }
   ],
   "source": [
    "companies = [\"AAPL\"]\n",
    "# intervals = [\"30m\",\"60m\"]\n",
    "intervals = [\"60m\"]\n",
    "for company in companies:\n",
    "    for interval in intervals:\n",
    "        df = pd.read_csv(f\"../finance/{interval}_{company}_191001_191231.csv\", sep=';')\n",
    "        print(df)\n",
    "        df['<TIME>'] = df['<DATE>'].map(str) + df['<TIME>'].map(str)\n",
    "        df.drop('<DATE>', axis=1, inplace=True)\n",
    "        # df['<TIME>'] = df['<TIME>'].apply()\n",
    "        df.to_csv(f\"../finance/{interval}_{company}_191001_191231.csv\", index=False)"
   ],
   "metadata": {
    "collapsed": false,
    "pycharm": {
     "name": "#%%\n"
    }
   }
  },
  {
   "cell_type": "code",
   "execution_count": 14,
   "outputs": [],
   "source": [
    "# company = pd.read_csv('../kaggle_data/Company.csv')\n",
    "value = pd.read_csv('../kaggle_data/CompanyValues.csv')"
   ],
   "metadata": {
    "collapsed": false,
    "pycharm": {
     "name": "#%%\n"
    }
   }
  },
  {
   "cell_type": "code",
   "execution_count": 14,
   "outputs": [],
   "source": [
    "company_tweet = pd.read_csv('../kaggle_data/Company_Tweet.csv')"
   ],
   "metadata": {
    "collapsed": false,
    "pycharm": {
     "name": "#%%\n"
    }
   }
  },
  {
   "cell_type": "code",
   "execution_count": 10,
   "outputs": [],
   "source": [
    "tweet = pd.read_csv('../kaggle_data/Tweet.csv')"
   ],
   "metadata": {
    "collapsed": false,
    "pycharm": {
     "name": "#%%\n"
    }
   }
  },
  {
   "cell_type": "code",
   "execution_count": 11,
   "outputs": [
    {
     "name": "stdout",
     "output_type": "stream",
     "text": [
      "                    tweet_id           writer   post_date  \\\n",
      "0         550441509175443456  VisualStockRSRC  1420070457   \n",
      "1         550441672312512512      KeralaGuy77  1420070496   \n",
      "2         550441732014223360      DozenStocks  1420070510   \n",
      "3         550442977802207232     ShowDreamCar  1420070807   \n",
      "4         550443807834402816     i_Know_First  1420071005   \n",
      "...                      ...              ...         ...   \n",
      "3717959  1212159765914079234        TEEELAZER  1577836383   \n",
      "3717960  1212159838882533376    ShortingIsFun  1577836401   \n",
      "3717961  1212160015332728833      Commuternyc  1577836443   \n",
      "3717962  1212160410692046849      MoriaCrypto  1577836537   \n",
      "3717963  1212160477159206912         treabase  1577836553   \n",
      "\n",
      "                                                      body  comment_num  \\\n",
      "0        lx21 made $10,008  on $AAPL -Check it out! htt...            0   \n",
      "1        Insanity of today weirdo massive selling. $aap...            0   \n",
      "2        S&P100 #Stocks Performance $HD $LOW $SBUX $TGT...            0   \n",
      "3        $GM $TSLA: Volkswagen Pushes 2014 Record Recal...            0   \n",
      "4        Swing Trading: Up To 8.91% Return In 14 Days h...            0   \n",
      "...                                                    ...          ...   \n",
      "3717959  That $SPY $SPX puuump in the last hour was the...            1   \n",
      "3717960  In 2020 I may start Tweeting out positive news...            0   \n",
      "3717961  Patiently Waiting for the no twitter sitter tw...            0   \n",
      "3717962  I don't discriminate. I own both $aapl and $ms...            1   \n",
      "3717963  $AAPL #patent 10,522,475 Vertical interconnect...            0   \n",
      "\n",
      "         retweet_num  like_num  total_engagement  \n",
      "0                  0         1                 1  \n",
      "1                  0         0                 0  \n",
      "2                  0         0                 0  \n",
      "3                  0         1                 1  \n",
      "4                  0         1                 1  \n",
      "...              ...       ...               ...  \n",
      "3717959            0         6                 7  \n",
      "3717960            0         1                 1  \n",
      "3717961            0         5                 5  \n",
      "3717962            0         1                 2  \n",
      "3717963            0         0                 0  \n",
      "\n",
      "[3717964 rows x 8 columns]\n"
     ]
    }
   ],
   "source": [
    "tweet[\"total_engagement\"] = tweet[\"comment_num\"] + tweet[\"retweet_num\"] + tweet[\"like_num\"]\n",
    "print(tweet)"
   ],
   "metadata": {
    "collapsed": false,
    "pycharm": {
     "name": "#%%\n"
    }
   }
  },
  {
   "cell_type": "code",
   "execution_count": 12,
   "outputs": [
    {
     "data": {
      "text/plain": "                    tweet_id writer   post_date  \\\n357       550698244552925184    NaN  1420131667   \n1077      551029459957325824    NaN  1420210635   \n1703      551102918204874754    NaN  1420228149   \n1860      551123120783122432    NaN  1420232966   \n1934      551144074716397569    NaN  1420237961   \n...                      ...    ...         ...   \n3717306  1212069539527180298    NaN  1577814872   \n3717710  1212114691151056896    NaN  1577825637   \n3717795  1212120290609598464    NaN  1577826972   \n3717892  1212138184479510528    NaN  1577831238   \n3717951  1212157688089591808    NaN  1577835888   \n\n                                                      body  comment_num  \\\n357      2015 technology forecasts: Wearable technology...            0   \n1077     Today in Twitter: an aggravated VC, word parsi...            2   \n1703     $AAPL  LT view. This could be interesting. If ...            1   \n1860     $AAPL So,  I didn't buy any today. It was hard...            0   \n1934     maybe $TSLA is selling off because Elon is get...            0   \n...                                                    ...          ...   \n3717306  Maybe Elon can get Dennis to head this one up,...            1   \n3717710  #QAnon #MAGA $TWTR $FB $GOOGThe criminals for ...            0   \n3717795  $TSLAStock's near all time high and fucko is c...            2   \n3717892  “Alpha male” Mike Cernovich is a bootlicker? W...            3   \n3717951  When you compare the losses of a public corpor...            0   \n\n         retweet_num  like_num  total_engagement  \n357                0         2                 2  \n1077               1         5                 8  \n1703               0         0                 1  \n1860               0         0                 0  \n1934               0         0                 0  \n...              ...       ...               ...  \n3717306            1         4                 6  \n3717710            0         0                 0  \n3717795            0         4                 6  \n3717892            3         7                13  \n3717951            0         2                 2  \n\n[47273 rows x 8 columns]",
      "text/html": "<div>\n<style scoped>\n    .dataframe tbody tr th:only-of-type {\n        vertical-align: middle;\n    }\n\n    .dataframe tbody tr th {\n        vertical-align: top;\n    }\n\n    .dataframe thead th {\n        text-align: right;\n    }\n</style>\n<table border=\"1\" class=\"dataframe\">\n  <thead>\n    <tr style=\"text-align: right;\">\n      <th></th>\n      <th>tweet_id</th>\n      <th>writer</th>\n      <th>post_date</th>\n      <th>body</th>\n      <th>comment_num</th>\n      <th>retweet_num</th>\n      <th>like_num</th>\n      <th>total_engagement</th>\n    </tr>\n  </thead>\n  <tbody>\n    <tr>\n      <th>357</th>\n      <td>550698244552925184</td>\n      <td>NaN</td>\n      <td>1420131667</td>\n      <td>2015 technology forecasts: Wearable technology...</td>\n      <td>0</td>\n      <td>0</td>\n      <td>2</td>\n      <td>2</td>\n    </tr>\n    <tr>\n      <th>1077</th>\n      <td>551029459957325824</td>\n      <td>NaN</td>\n      <td>1420210635</td>\n      <td>Today in Twitter: an aggravated VC, word parsi...</td>\n      <td>2</td>\n      <td>1</td>\n      <td>5</td>\n      <td>8</td>\n    </tr>\n    <tr>\n      <th>1703</th>\n      <td>551102918204874754</td>\n      <td>NaN</td>\n      <td>1420228149</td>\n      <td>$AAPL  LT view. This could be interesting. If ...</td>\n      <td>1</td>\n      <td>0</td>\n      <td>0</td>\n      <td>1</td>\n    </tr>\n    <tr>\n      <th>1860</th>\n      <td>551123120783122432</td>\n      <td>NaN</td>\n      <td>1420232966</td>\n      <td>$AAPL So,  I didn't buy any today. It was hard...</td>\n      <td>0</td>\n      <td>0</td>\n      <td>0</td>\n      <td>0</td>\n    </tr>\n    <tr>\n      <th>1934</th>\n      <td>551144074716397569</td>\n      <td>NaN</td>\n      <td>1420237961</td>\n      <td>maybe $TSLA is selling off because Elon is get...</td>\n      <td>0</td>\n      <td>0</td>\n      <td>0</td>\n      <td>0</td>\n    </tr>\n    <tr>\n      <th>...</th>\n      <td>...</td>\n      <td>...</td>\n      <td>...</td>\n      <td>...</td>\n      <td>...</td>\n      <td>...</td>\n      <td>...</td>\n      <td>...</td>\n    </tr>\n    <tr>\n      <th>3717306</th>\n      <td>1212069539527180298</td>\n      <td>NaN</td>\n      <td>1577814872</td>\n      <td>Maybe Elon can get Dennis to head this one up,...</td>\n      <td>1</td>\n      <td>1</td>\n      <td>4</td>\n      <td>6</td>\n    </tr>\n    <tr>\n      <th>3717710</th>\n      <td>1212114691151056896</td>\n      <td>NaN</td>\n      <td>1577825637</td>\n      <td>#QAnon #MAGA $TWTR $FB $GOOGThe criminals for ...</td>\n      <td>0</td>\n      <td>0</td>\n      <td>0</td>\n      <td>0</td>\n    </tr>\n    <tr>\n      <th>3717795</th>\n      <td>1212120290609598464</td>\n      <td>NaN</td>\n      <td>1577826972</td>\n      <td>$TSLAStock's near all time high and fucko is c...</td>\n      <td>2</td>\n      <td>0</td>\n      <td>4</td>\n      <td>6</td>\n    </tr>\n    <tr>\n      <th>3717892</th>\n      <td>1212138184479510528</td>\n      <td>NaN</td>\n      <td>1577831238</td>\n      <td>“Alpha male” Mike Cernovich is a bootlicker? W...</td>\n      <td>3</td>\n      <td>3</td>\n      <td>7</td>\n      <td>13</td>\n    </tr>\n    <tr>\n      <th>3717951</th>\n      <td>1212157688089591808</td>\n      <td>NaN</td>\n      <td>1577835888</td>\n      <td>When you compare the losses of a public corpor...</td>\n      <td>0</td>\n      <td>0</td>\n      <td>2</td>\n      <td>2</td>\n    </tr>\n  </tbody>\n</table>\n<p>47273 rows × 8 columns</p>\n</div>"
     },
     "execution_count": 12,
     "metadata": {},
     "output_type": "execute_result"
    }
   ],
   "source": [
    "tweet[tweet['writer'].isnull()]\n",
    "# for writer, group in tweet.groupby('writer').iloc[0]:\n",
    "# tweet['writer_weight'] = tweet.groupby('writer')['total_engagement'].sum()\n",
    "writer_weight = tweet.groupby('writer')[['total_engagement']].sum()\n",
    "writer_weight.rename({'total_engagement':'writer_weight'}, axis=1, inplace=True)"
   ],
   "metadata": {
    "collapsed": false,
    "pycharm": {
     "name": "#%%\n"
    }
   }
  },
  {
   "cell_type": "code",
   "execution_count": 15,
   "outputs": [],
   "source": [
    "tweet = tweet[(tweet[\"post_date\"]>=1569913201) & (tweet[\"post_date\"]<1577865600)]\n",
    "tweets = pd.merge(company_tweet, tweet, on=\"tweet_id\", how= \"inner\")\n",
    "tweets[\"total_engagement\"] = tweets[\"comment_num\"] + tweets[\"retweet_num\"] + tweets[\"like_num\"]"
   ],
   "metadata": {
    "collapsed": false,
    "pycharm": {
     "name": "#%%\n"
    }
   }
  },
  {
   "cell_type": "code",
   "execution_count": 61,
   "outputs": [],
   "source": [
    "# tweets['writer'] = tweets['writer'].astype(str)\n",
    "# tweets_writer = pd.merge(writer_weight, tweets, on=\"writer\", how= \"outer\")"
   ],
   "metadata": {
    "collapsed": false,
    "pycharm": {
     "name": "#%%\n"
    }
   }
  },
  {
   "cell_type": "code",
   "execution_count": 16,
   "outputs": [
    {
     "data": {
      "text/plain": "                   tweet_id ticker_symbol           writer   post_date  \\\n0       1178944611059978240          AAPL        TheStreet  1569917273   \n1       1178946849253810176          AAPL   stocknewstimes  1569917807   \n2       1178947363701960704          AAPL  dakotafinancial  1569917929   \n3       1178947680447262723          AAPL      MacHashNews  1569918005   \n4       1178948953682919424          AAPL     stock_family  1569918309   \n...                     ...           ...              ...         ...   \n206358  1212158772015034369          TSLA        StockJoke  1577836146   \n206359  1212159099632267268          TSLA        sweetog76  1577836224   \n206360  1212159184931717120          TSLA   MelaynaLokosky  1577836245   \n206361  1212159838882533376          TSLA    ShortingIsFun  1577836401   \n206362  1212160015332728833          TSLA      Commuternyc  1577836443   \n\n                                                     body  comment_num  \\\n0       Apple Extends Gains, European Suppliers Rise A...            0   \n1       Apple $AAPL Upgraded at BidaskClub  http://the...            0   \n2       Apple $AAPL Upgraded at BidaskClub http://dako...            0   \n3       Apple supplier TSMC counter-sues GlobalFoundri...            0   \n4            $SPY $MRK $AAPL Goooooooooooood morning fam!            0   \n...                                                   ...          ...   \n206358  I'm getting wasted on NYE, and thanks to @NHTS...            0   \n206359                       $TSLA Very Interesting dude:            0   \n206360  If only 2020 brought more self-awareness to Te...            0   \n206361  In 2020 I may start Tweeting out positive news...            0   \n206362  Patiently Waiting for the no twitter sitter tw...            0   \n\n        retweet_num  like_num  total_engagement  \n0                 1         7                 8  \n1                 0         0                 0  \n2                 0         0                 0  \n3                 0         0                 0  \n4                 0         2                 2  \n...             ...       ...               ...  \n206358            0         0                 0  \n206359            0         0                 0  \n206360            1         0                 1  \n206361            0         1                 1  \n206362            0         5                 5  \n\n[206363 rows x 9 columns]",
      "text/html": "<div>\n<style scoped>\n    .dataframe tbody tr th:only-of-type {\n        vertical-align: middle;\n    }\n\n    .dataframe tbody tr th {\n        vertical-align: top;\n    }\n\n    .dataframe thead th {\n        text-align: right;\n    }\n</style>\n<table border=\"1\" class=\"dataframe\">\n  <thead>\n    <tr style=\"text-align: right;\">\n      <th></th>\n      <th>tweet_id</th>\n      <th>ticker_symbol</th>\n      <th>writer</th>\n      <th>post_date</th>\n      <th>body</th>\n      <th>comment_num</th>\n      <th>retweet_num</th>\n      <th>like_num</th>\n      <th>total_engagement</th>\n    </tr>\n  </thead>\n  <tbody>\n    <tr>\n      <th>0</th>\n      <td>1178944611059978240</td>\n      <td>AAPL</td>\n      <td>TheStreet</td>\n      <td>1569917273</td>\n      <td>Apple Extends Gains, European Suppliers Rise A...</td>\n      <td>0</td>\n      <td>1</td>\n      <td>7</td>\n      <td>8</td>\n    </tr>\n    <tr>\n      <th>1</th>\n      <td>1178946849253810176</td>\n      <td>AAPL</td>\n      <td>stocknewstimes</td>\n      <td>1569917807</td>\n      <td>Apple $AAPL Upgraded at BidaskClub  http://the...</td>\n      <td>0</td>\n      <td>0</td>\n      <td>0</td>\n      <td>0</td>\n    </tr>\n    <tr>\n      <th>2</th>\n      <td>1178947363701960704</td>\n      <td>AAPL</td>\n      <td>dakotafinancial</td>\n      <td>1569917929</td>\n      <td>Apple $AAPL Upgraded at BidaskClub http://dako...</td>\n      <td>0</td>\n      <td>0</td>\n      <td>0</td>\n      <td>0</td>\n    </tr>\n    <tr>\n      <th>3</th>\n      <td>1178947680447262723</td>\n      <td>AAPL</td>\n      <td>MacHashNews</td>\n      <td>1569918005</td>\n      <td>Apple supplier TSMC counter-sues GlobalFoundri...</td>\n      <td>0</td>\n      <td>0</td>\n      <td>0</td>\n      <td>0</td>\n    </tr>\n    <tr>\n      <th>4</th>\n      <td>1178948953682919424</td>\n      <td>AAPL</td>\n      <td>stock_family</td>\n      <td>1569918309</td>\n      <td>$SPY $MRK $AAPL Goooooooooooood morning fam!</td>\n      <td>0</td>\n      <td>0</td>\n      <td>2</td>\n      <td>2</td>\n    </tr>\n    <tr>\n      <th>...</th>\n      <td>...</td>\n      <td>...</td>\n      <td>...</td>\n      <td>...</td>\n      <td>...</td>\n      <td>...</td>\n      <td>...</td>\n      <td>...</td>\n      <td>...</td>\n    </tr>\n    <tr>\n      <th>206358</th>\n      <td>1212158772015034369</td>\n      <td>TSLA</td>\n      <td>StockJoke</td>\n      <td>1577836146</td>\n      <td>I'm getting wasted on NYE, and thanks to @NHTS...</td>\n      <td>0</td>\n      <td>0</td>\n      <td>0</td>\n      <td>0</td>\n    </tr>\n    <tr>\n      <th>206359</th>\n      <td>1212159099632267268</td>\n      <td>TSLA</td>\n      <td>sweetog76</td>\n      <td>1577836224</td>\n      <td>$TSLA Very Interesting dude:</td>\n      <td>0</td>\n      <td>0</td>\n      <td>0</td>\n      <td>0</td>\n    </tr>\n    <tr>\n      <th>206360</th>\n      <td>1212159184931717120</td>\n      <td>TSLA</td>\n      <td>MelaynaLokosky</td>\n      <td>1577836245</td>\n      <td>If only 2020 brought more self-awareness to Te...</td>\n      <td>0</td>\n      <td>1</td>\n      <td>0</td>\n      <td>1</td>\n    </tr>\n    <tr>\n      <th>206361</th>\n      <td>1212159838882533376</td>\n      <td>TSLA</td>\n      <td>ShortingIsFun</td>\n      <td>1577836401</td>\n      <td>In 2020 I may start Tweeting out positive news...</td>\n      <td>0</td>\n      <td>0</td>\n      <td>1</td>\n      <td>1</td>\n    </tr>\n    <tr>\n      <th>206362</th>\n      <td>1212160015332728833</td>\n      <td>TSLA</td>\n      <td>Commuternyc</td>\n      <td>1577836443</td>\n      <td>Patiently Waiting for the no twitter sitter tw...</td>\n      <td>0</td>\n      <td>0</td>\n      <td>5</td>\n      <td>5</td>\n    </tr>\n  </tbody>\n</table>\n<p>206363 rows × 9 columns</p>\n</div>"
     },
     "execution_count": 16,
     "metadata": {},
     "output_type": "execute_result"
    }
   ],
   "source": [
    "# writer_weight.dtypes, tweets.dtypes\n",
    "# tweets_writer\n",
    "tweets"
   ],
   "metadata": {
    "collapsed": false,
    "pycharm": {
     "name": "#%%\n"
    }
   }
  },
  {
   "cell_type": "code",
   "execution_count": 17,
   "outputs": [
    {
     "ename": "AttributeError",
     "evalue": "'NoneType' object has no attribute 'sort_values'",
     "output_type": "error",
     "traceback": [
      "\u001B[0;31m---------------------------------------------------------------------------\u001B[0m",
      "\u001B[0;31mAttributeError\u001B[0m                            Traceback (most recent call last)",
      "\u001B[0;32m/var/folders/tf/kt2z64bn72lfmzbccyrlf4xr0000gn/T/ipykernel_58567/3881848128.py\u001B[0m in \u001B[0;36m<module>\u001B[0;34m\u001B[0m\n\u001B[0;32m----> 1\u001B[0;31m \u001B[0mtweets\u001B[0m\u001B[0;34m.\u001B[0m\u001B[0mdrop\u001B[0m\u001B[0;34m(\u001B[0m\u001B[0mlabels\u001B[0m\u001B[0;34m=\u001B[0m\u001B[0;34m\"tweet_id\"\u001B[0m\u001B[0;34m,\u001B[0m \u001B[0maxis\u001B[0m\u001B[0;34m=\u001B[0m\u001B[0;36m1\u001B[0m\u001B[0;34m,\u001B[0m \u001B[0minplace\u001B[0m\u001B[0;34m=\u001B[0m\u001B[0;32mTrue\u001B[0m\u001B[0;34m)\u001B[0m\u001B[0;34m.\u001B[0m\u001B[0msort_values\u001B[0m\u001B[0;34m(\u001B[0m\u001B[0mby\u001B[0m\u001B[0;34m=\u001B[0m\u001B[0;34m'post_date'\u001B[0m\u001B[0;34m,\u001B[0m \u001B[0mascending\u001B[0m\u001B[0;34m=\u001B[0m\u001B[0;32mTrue\u001B[0m\u001B[0;34m,\u001B[0m \u001B[0minplace\u001B[0m\u001B[0;34m=\u001B[0m\u001B[0;32mTrue\u001B[0m\u001B[0;34m)\u001B[0m\u001B[0;34m\u001B[0m\u001B[0;34m\u001B[0m\u001B[0m\n\u001B[0m\u001B[1;32m      2\u001B[0m \u001B[0;32mfor\u001B[0m \u001B[0mcompany\u001B[0m\u001B[0;34m,\u001B[0m \u001B[0mgroup\u001B[0m \u001B[0;32min\u001B[0m \u001B[0mtweets\u001B[0m\u001B[0;34m.\u001B[0m\u001B[0mgroupby\u001B[0m\u001B[0;34m(\u001B[0m\u001B[0;34m'ticker_symbol'\u001B[0m\u001B[0;34m)\u001B[0m\u001B[0;34m:\u001B[0m\u001B[0;34m\u001B[0m\u001B[0;34m\u001B[0m\u001B[0m\n\u001B[1;32m      3\u001B[0m     \u001B[0mgroup\u001B[0m\u001B[0;34m.\u001B[0m\u001B[0mdrop\u001B[0m\u001B[0;34m(\u001B[0m\u001B[0mlabels\u001B[0m\u001B[0;34m=\u001B[0m\u001B[0;34m\"ticker_symbol\"\u001B[0m\u001B[0;34m,\u001B[0m \u001B[0maxis\u001B[0m\u001B[0;34m=\u001B[0m\u001B[0;36m1\u001B[0m\u001B[0;34m)\u001B[0m\u001B[0;34m.\u001B[0m\u001B[0mto_csv\u001B[0m\u001B[0;34m(\u001B[0m\u001B[0;34mf'../kaggle_data/tweets_{company}_191001_191231.csv'\u001B[0m\u001B[0;34m,\u001B[0m\u001B[0mindex\u001B[0m\u001B[0;34m=\u001B[0m\u001B[0;32mFalse\u001B[0m\u001B[0;34m)\u001B[0m\u001B[0;34m\u001B[0m\u001B[0;34m\u001B[0m\u001B[0m\n\u001B[1;32m      4\u001B[0m \u001B[0;34m\u001B[0m\u001B[0m\n\u001B[1;32m      5\u001B[0m \u001B[0;31m#==========ENDDDDDD=============\u001B[0m\u001B[0;34m\u001B[0m\u001B[0;34m\u001B[0m\u001B[0;34m\u001B[0m\u001B[0m\n",
      "\u001B[0;31mAttributeError\u001B[0m: 'NoneType' object has no attribute 'sort_values'"
     ]
    }
   ],
   "source": [
    "tweets.drop(labels=\"tweet_id\", axis=1, inplace=True).sort_values(by='post_date', ascending=True, inplace=True)\n",
    "for company, group in tweets.groupby('ticker_symbol'):\n",
    "    group.drop(labels=\"ticker_symbol\", axis=1).to_csv(f'../kaggle_data/tweets_{company}_191001_191231.csv',index=False)\n",
    "\n",
    "#==========ENDDDDDD============="
   ],
   "metadata": {
    "collapsed": false,
    "pycharm": {
     "name": "#%%\n"
    }
   }
  },
  {
   "cell_type": "code",
   "execution_count": 17,
   "outputs": [],
   "source": [
    "price = value\n",
    "price = price[(price[\"day_date\"]>='2019-10-01') & (price[\"day_date\"]<'2019-12-30')]\n",
    "value = price\n",
    "for company, group in value.groupby('ticker_symbol'):\n",
    "    # group.to_csv(f'prices_{company}.csv', sep=',',index=False)\n",
    "    group.drop(labels=\"ticker_symbol\", axis=1).to_csv(f'../kaggle_data/prices_{company}.csv', compression=None,index=False)"
   ],
   "metadata": {
    "collapsed": false,
    "pycharm": {
     "name": "#%%\n"
    }
   }
  },
  {
   "cell_type": "code",
   "execution_count": 15,
   "outputs": [
    {
     "data": {
      "text/plain": "      ticker_symbol    day_date  close_value    volume  open_value  \\\n0              AAPL  2020-05-29       317.94  38399530      319.25   \n1              AAPL  2020-05-28       318.25  33449100      316.77   \n2              AAPL  2020-05-27       318.11  28236270      316.14   \n3              AAPL  2020-05-26       316.73  31380450      323.50   \n4              AAPL  2020-05-22       318.89  20450750      315.77   \n...             ...         ...          ...       ...         ...   \n17523          TSLA  2019-12-21       405.59  14785210      410.29   \n17524          TSLA  2019-12-22       405.59  14785210      410.29   \n17525          TSLA  2019-12-25       425.25   8054720      418.36   \n17526          TSLA  2019-12-28       430.38   9956827      435.00   \n17527          TSLA  2019-12-29       430.38   9956827      435.00   \n\n       high_value  low_value  \n0          321.15   316.4700  \n1          323.44   315.6300  \n2          318.71   313.0900  \n3          324.24   316.5000  \n4          319.23   315.3500  \n...           ...        ...  \n17523      413.00   400.1850  \n17524      413.00   400.1850  \n17525      425.47   412.6875  \n17526      435.31   426.1100  \n17527      435.31   426.1100  \n\n[17528 rows x 7 columns]",
      "text/html": "<div>\n<style scoped>\n    .dataframe tbody tr th:only-of-type {\n        vertical-align: middle;\n    }\n\n    .dataframe tbody tr th {\n        vertical-align: top;\n    }\n\n    .dataframe thead th {\n        text-align: right;\n    }\n</style>\n<table border=\"1\" class=\"dataframe\">\n  <thead>\n    <tr style=\"text-align: right;\">\n      <th></th>\n      <th>ticker_symbol</th>\n      <th>day_date</th>\n      <th>close_value</th>\n      <th>volume</th>\n      <th>open_value</th>\n      <th>high_value</th>\n      <th>low_value</th>\n    </tr>\n  </thead>\n  <tbody>\n    <tr>\n      <th>0</th>\n      <td>AAPL</td>\n      <td>2020-05-29</td>\n      <td>317.94</td>\n      <td>38399530</td>\n      <td>319.25</td>\n      <td>321.15</td>\n      <td>316.4700</td>\n    </tr>\n    <tr>\n      <th>1</th>\n      <td>AAPL</td>\n      <td>2020-05-28</td>\n      <td>318.25</td>\n      <td>33449100</td>\n      <td>316.77</td>\n      <td>323.44</td>\n      <td>315.6300</td>\n    </tr>\n    <tr>\n      <th>2</th>\n      <td>AAPL</td>\n      <td>2020-05-27</td>\n      <td>318.11</td>\n      <td>28236270</td>\n      <td>316.14</td>\n      <td>318.71</td>\n      <td>313.0900</td>\n    </tr>\n    <tr>\n      <th>3</th>\n      <td>AAPL</td>\n      <td>2020-05-26</td>\n      <td>316.73</td>\n      <td>31380450</td>\n      <td>323.50</td>\n      <td>324.24</td>\n      <td>316.5000</td>\n    </tr>\n    <tr>\n      <th>4</th>\n      <td>AAPL</td>\n      <td>2020-05-22</td>\n      <td>318.89</td>\n      <td>20450750</td>\n      <td>315.77</td>\n      <td>319.23</td>\n      <td>315.3500</td>\n    </tr>\n    <tr>\n      <th>...</th>\n      <td>...</td>\n      <td>...</td>\n      <td>...</td>\n      <td>...</td>\n      <td>...</td>\n      <td>...</td>\n      <td>...</td>\n    </tr>\n    <tr>\n      <th>17523</th>\n      <td>TSLA</td>\n      <td>2019-12-21</td>\n      <td>405.59</td>\n      <td>14785210</td>\n      <td>410.29</td>\n      <td>413.00</td>\n      <td>400.1850</td>\n    </tr>\n    <tr>\n      <th>17524</th>\n      <td>TSLA</td>\n      <td>2019-12-22</td>\n      <td>405.59</td>\n      <td>14785210</td>\n      <td>410.29</td>\n      <td>413.00</td>\n      <td>400.1850</td>\n    </tr>\n    <tr>\n      <th>17525</th>\n      <td>TSLA</td>\n      <td>2019-12-25</td>\n      <td>425.25</td>\n      <td>8054720</td>\n      <td>418.36</td>\n      <td>425.47</td>\n      <td>412.6875</td>\n    </tr>\n    <tr>\n      <th>17526</th>\n      <td>TSLA</td>\n      <td>2019-12-28</td>\n      <td>430.38</td>\n      <td>9956827</td>\n      <td>435.00</td>\n      <td>435.31</td>\n      <td>426.1100</td>\n    </tr>\n    <tr>\n      <th>17527</th>\n      <td>TSLA</td>\n      <td>2019-12-29</td>\n      <td>430.38</td>\n      <td>9956827</td>\n      <td>435.00</td>\n      <td>435.31</td>\n      <td>426.1100</td>\n    </tr>\n  </tbody>\n</table>\n<p>17528 rows × 7 columns</p>\n</div>"
     },
     "execution_count": 15,
     "metadata": {},
     "output_type": "execute_result"
    }
   ],
   "source": [
    "value"
   ],
   "metadata": {
    "collapsed": false,
    "pycharm": {
     "name": "#%%\n"
    }
   }
  },
  {
   "cell_type": "code",
   "execution_count": 6,
   "outputs": [
    {
     "data": {
      "text/plain": "  ticker_symbol      writer   post_date  \\\n0          AAPL  SentiQuant  1420156789   \n1          AMZN  SentiQuant  1420156789   \n2          AAPL  SentiQuant  1420156788   \n3         GOOGL  SentiQuant  1420156788   \n4          AMZN  SentiQuant  1420156788   \n\n                                                body  comment_num  \\\n0  #TOPTICKERTWEETS $AAPL $IMRS $BABA $EBAY $AMZN...            0   \n1  #TOPTICKERTWEETS $AAPL $IMRS $BABA $EBAY $AMZN...            0   \n2  #SENTISHIFTUP $K $FB $GOOGL $GS $GOLD $T $AAPL...            0   \n3  #SENTISHIFTUP $K $FB $GOOGL $GS $GOLD $T $AAPL...            0   \n4  #SENTISHIFTUP $K $FB $GOOGL $GS $GOLD $T $AAPL...            0   \n\n   retweet_num  like_num  \n0            0         1  \n1            0         1  \n2            0         1  \n3            0         1  \n4            0         1  ",
      "text/html": "<div>\n<style scoped>\n    .dataframe tbody tr th:only-of-type {\n        vertical-align: middle;\n    }\n\n    .dataframe tbody tr th {\n        vertical-align: top;\n    }\n\n    .dataframe thead th {\n        text-align: right;\n    }\n</style>\n<table border=\"1\" class=\"dataframe\">\n  <thead>\n    <tr style=\"text-align: right;\">\n      <th></th>\n      <th>ticker_symbol</th>\n      <th>writer</th>\n      <th>post_date</th>\n      <th>body</th>\n      <th>comment_num</th>\n      <th>retweet_num</th>\n      <th>like_num</th>\n    </tr>\n  </thead>\n  <tbody>\n    <tr>\n      <th>0</th>\n      <td>AAPL</td>\n      <td>SentiQuant</td>\n      <td>1420156789</td>\n      <td>#TOPTICKERTWEETS $AAPL $IMRS $BABA $EBAY $AMZN...</td>\n      <td>0</td>\n      <td>0</td>\n      <td>1</td>\n    </tr>\n    <tr>\n      <th>1</th>\n      <td>AMZN</td>\n      <td>SentiQuant</td>\n      <td>1420156789</td>\n      <td>#TOPTICKERTWEETS $AAPL $IMRS $BABA $EBAY $AMZN...</td>\n      <td>0</td>\n      <td>0</td>\n      <td>1</td>\n    </tr>\n    <tr>\n      <th>2</th>\n      <td>AAPL</td>\n      <td>SentiQuant</td>\n      <td>1420156788</td>\n      <td>#SENTISHIFTUP $K $FB $GOOGL $GS $GOLD $T $AAPL...</td>\n      <td>0</td>\n      <td>0</td>\n      <td>1</td>\n    </tr>\n    <tr>\n      <th>3</th>\n      <td>GOOGL</td>\n      <td>SentiQuant</td>\n      <td>1420156788</td>\n      <td>#SENTISHIFTUP $K $FB $GOOGL $GS $GOLD $T $AAPL...</td>\n      <td>0</td>\n      <td>0</td>\n      <td>1</td>\n    </tr>\n    <tr>\n      <th>4</th>\n      <td>AMZN</td>\n      <td>SentiQuant</td>\n      <td>1420156788</td>\n      <td>#SENTISHIFTUP $K $FB $GOOGL $GS $GOLD $T $AAPL...</td>\n      <td>0</td>\n      <td>0</td>\n      <td>1</td>\n    </tr>\n  </tbody>\n</table>\n</div>"
     },
     "execution_count": 6,
     "metadata": {},
     "output_type": "execute_result"
    }
   ],
   "source": [
    "tweets = pd.merge(company_tweet, tweet, on=\"tweet_id\", how= \"inner\")\n",
    "tweets.drop(labels=\"tweet_id\", axis=1).sort_values(by='day_date', ascending=True, inplace=True)\n",
    "tweets[\"Date\"] = pd.to_datetime(tweets['post_date'],unit='s').dt.strftime('%Y-%m-%d')\n",
    "tweets[\"total_engagement\"] = tweets[\"comment_num\"] + tweets[\"retweet_num\"] + tweets[\"like_num\"]\n",
    "# tweets.drop(labels=\"post_date\", axis=1, inplace=True)"
   ],
   "metadata": {
    "collapsed": false,
    "pycharm": {
     "name": "#%%\n"
    }
   }
  },
  {
   "cell_type": "code",
   "execution_count": 33,
   "outputs": [
    {
     "data": {
      "text/plain": "        ticker_symbol          writer  \\\n0                AAPL      SentiQuant   \n1                AMZN      SentiQuant   \n2                AAPL      SentiQuant   \n3               GOOGL      SentiQuant   \n4                AMZN      SentiQuant   \n...               ...             ...   \n4336440          TSLA       StockJoke   \n4336441          TSLA       sweetog76   \n4336442          TSLA  MelaynaLokosky   \n4336443          TSLA   ShortingIsFun   \n4336444          TSLA     Commuternyc   \n\n                                                      body  comment_num  \\\n0        #TOPTICKERTWEETS $AAPL $IMRS $BABA $EBAY $AMZN...            0   \n1        #TOPTICKERTWEETS $AAPL $IMRS $BABA $EBAY $AMZN...            0   \n2        #SENTISHIFTUP $K $FB $GOOGL $GS $GOLD $T $AAPL...            0   \n3        #SENTISHIFTUP $K $FB $GOOGL $GS $GOLD $T $AAPL...            0   \n4        #SENTISHIFTUP $K $FB $GOOGL $GS $GOLD $T $AAPL...            0   \n...                                                    ...          ...   \n4336440  I'm getting wasted on NYE, and thanks to @NHTS...            0   \n4336441                       $TSLA Very Interesting dude:            0   \n4336442  If only 2020 brought more self-awareness to Te...            0   \n4336443  In 2020 I may start Tweeting out positive news...            0   \n4336444  Patiently Waiting for the no twitter sitter tw...            0   \n\n         retweet_num  like_num  total_engagement        Date  \n0                  0         1                 1  2015-01-01  \n1                  0         1                 1  2015-01-01  \n2                  0         1                 1  2015-01-01  \n3                  0         1                 1  2015-01-01  \n4                  0         1                 1  2015-01-01  \n...              ...       ...               ...         ...  \n4336440            0         0                 0  2019-12-31  \n4336441            0         0                 0  2019-12-31  \n4336442            1         0                 1  2019-12-31  \n4336443            0         1                 1  2019-12-31  \n4336444            0         5                 5  2019-12-31  \n\n[4336445 rows x 8 columns]",
      "text/html": "<div>\n<style scoped>\n    .dataframe tbody tr th:only-of-type {\n        vertical-align: middle;\n    }\n\n    .dataframe tbody tr th {\n        vertical-align: top;\n    }\n\n    .dataframe thead th {\n        text-align: right;\n    }\n</style>\n<table border=\"1\" class=\"dataframe\">\n  <thead>\n    <tr style=\"text-align: right;\">\n      <th></th>\n      <th>ticker_symbol</th>\n      <th>writer</th>\n      <th>body</th>\n      <th>comment_num</th>\n      <th>retweet_num</th>\n      <th>like_num</th>\n      <th>total_engagement</th>\n      <th>Date</th>\n    </tr>\n  </thead>\n  <tbody>\n    <tr>\n      <th>0</th>\n      <td>AAPL</td>\n      <td>SentiQuant</td>\n      <td>#TOPTICKERTWEETS $AAPL $IMRS $BABA $EBAY $AMZN...</td>\n      <td>0</td>\n      <td>0</td>\n      <td>1</td>\n      <td>1</td>\n      <td>2015-01-01</td>\n    </tr>\n    <tr>\n      <th>1</th>\n      <td>AMZN</td>\n      <td>SentiQuant</td>\n      <td>#TOPTICKERTWEETS $AAPL $IMRS $BABA $EBAY $AMZN...</td>\n      <td>0</td>\n      <td>0</td>\n      <td>1</td>\n      <td>1</td>\n      <td>2015-01-01</td>\n    </tr>\n    <tr>\n      <th>2</th>\n      <td>AAPL</td>\n      <td>SentiQuant</td>\n      <td>#SENTISHIFTUP $K $FB $GOOGL $GS $GOLD $T $AAPL...</td>\n      <td>0</td>\n      <td>0</td>\n      <td>1</td>\n      <td>1</td>\n      <td>2015-01-01</td>\n    </tr>\n    <tr>\n      <th>3</th>\n      <td>GOOGL</td>\n      <td>SentiQuant</td>\n      <td>#SENTISHIFTUP $K $FB $GOOGL $GS $GOLD $T $AAPL...</td>\n      <td>0</td>\n      <td>0</td>\n      <td>1</td>\n      <td>1</td>\n      <td>2015-01-01</td>\n    </tr>\n    <tr>\n      <th>4</th>\n      <td>AMZN</td>\n      <td>SentiQuant</td>\n      <td>#SENTISHIFTUP $K $FB $GOOGL $GS $GOLD $T $AAPL...</td>\n      <td>0</td>\n      <td>0</td>\n      <td>1</td>\n      <td>1</td>\n      <td>2015-01-01</td>\n    </tr>\n    <tr>\n      <th>...</th>\n      <td>...</td>\n      <td>...</td>\n      <td>...</td>\n      <td>...</td>\n      <td>...</td>\n      <td>...</td>\n      <td>...</td>\n      <td>...</td>\n    </tr>\n    <tr>\n      <th>4336440</th>\n      <td>TSLA</td>\n      <td>StockJoke</td>\n      <td>I'm getting wasted on NYE, and thanks to @NHTS...</td>\n      <td>0</td>\n      <td>0</td>\n      <td>0</td>\n      <td>0</td>\n      <td>2019-12-31</td>\n    </tr>\n    <tr>\n      <th>4336441</th>\n      <td>TSLA</td>\n      <td>sweetog76</td>\n      <td>$TSLA Very Interesting dude:</td>\n      <td>0</td>\n      <td>0</td>\n      <td>0</td>\n      <td>0</td>\n      <td>2019-12-31</td>\n    </tr>\n    <tr>\n      <th>4336442</th>\n      <td>TSLA</td>\n      <td>MelaynaLokosky</td>\n      <td>If only 2020 brought more self-awareness to Te...</td>\n      <td>0</td>\n      <td>1</td>\n      <td>0</td>\n      <td>1</td>\n      <td>2019-12-31</td>\n    </tr>\n    <tr>\n      <th>4336443</th>\n      <td>TSLA</td>\n      <td>ShortingIsFun</td>\n      <td>In 2020 I may start Tweeting out positive news...</td>\n      <td>0</td>\n      <td>0</td>\n      <td>1</td>\n      <td>1</td>\n      <td>2019-12-31</td>\n    </tr>\n    <tr>\n      <th>4336444</th>\n      <td>TSLA</td>\n      <td>Commuternyc</td>\n      <td>Patiently Waiting for the no twitter sitter tw...</td>\n      <td>0</td>\n      <td>0</td>\n      <td>5</td>\n      <td>5</td>\n      <td>2019-12-31</td>\n    </tr>\n  </tbody>\n</table>\n<p>4336445 rows × 8 columns</p>\n</div>"
     },
     "execution_count": 33,
     "metadata": {},
     "output_type": "execute_result"
    }
   ],
   "source": [
    "tweets"
   ],
   "metadata": {
    "collapsed": false,
    "pycharm": {
     "name": "#%%\n"
    }
   }
  },
  {
   "cell_type": "code",
   "execution_count": 34,
   "outputs": [],
   "source": [
    "for company, group in tweets.groupby('ticker_symbol'):\n",
    "    # group.to_csv(f'prices_{company}.csv', sep=',',index=False)\n",
    "    group.drop(labels=\"ticker_symbol\", axis=1).to_parquet(f'./kaggle_data/tweets_{company}.parquet', compression=None,index=False)"
   ],
   "metadata": {
    "collapsed": false,
    "pycharm": {
     "name": "#%%\n"
    }
   }
  },
  {
   "cell_type": "code",
   "execution_count": 1,
   "outputs": [
    {
     "data": {
      "text/plain": "                writer           post_date  \\\n0            TheStreet 2019-10-01 08:07:53   \n1       stocknewstimes 2019-10-01 08:16:47   \n2      dakotafinancial 2019-10-01 08:18:49   \n3          MacHashNews 2019-10-01 08:20:05   \n4         stock_family 2019-10-01 08:25:09   \n...                ...                 ...   \n44070    QuantWolfLine 2019-12-31 23:51:01   \n44071       GMGRIFF_79 2019-12-31 23:51:06   \n44072        TEEELAZER 2019-12-31 23:53:03   \n44073      MoriaCrypto 2019-12-31 23:55:37   \n44074         treabase 2019-12-31 23:55:53   \n\n                                                    body  comment_num  \\\n0      Apple Extends Gains, European Suppliers Rise A...            0   \n1      Apple $AAPL Upgraded at BidaskClub  http://the...            0   \n2      Apple $AAPL Upgraded at BidaskClub http://dako...            0   \n3      Apple supplier TSMC counter-sues GlobalFoundri...            0   \n4           $SPY $MRK $AAPL Goooooooooooood morning fam!            0   \n...                                                  ...          ...   \n44070  Imagine calling your broker-dealer and wanting...            1   \n44071  $AAPL yearly~ Heck of a year.. Jan. 2, 1999~ar...            0   \n44072  That $SPY $SPX puuump in the last hour was the...            1   \n44073  I don't discriminate. I own both $aapl and $ms...            1   \n44074  $AAPL #patent 10,522,475 Vertical interconnect...            0   \n\n       retweet_num  like_num  total_engagement  \\\n0                1         7                 8   \n1                0         0                 0   \n2                0         0                 0   \n3                0         0                 0   \n4                0         2                 2   \n...            ...       ...               ...   \n44070            0         1                 2   \n44071            0         1                 1   \n44072            0         6                 7   \n44073            0         1                 2   \n44074            0         0                 0   \n\n                                              clean_text      prob tweet_class  \n0      Apple Extends Gains, European Suppliers Rise A...  0.712731         POS  \n1      Apple $AAPL Upgraded at BidaskClub  url/?p=233049  0.701913         NEU  \n2      Apple $AAPL Upgraded at BidaskClub url/?p=1220068  0.712318         NEU  \n3      Apple supplier TSMC counter-sues GlobalFoundri...  0.934210         NEU  \n4                      $SPY $MRK $AAPL Good morning fam!  0.796910         POS  \n...                                                  ...       ...         ...  \n44070  Imagine calling your broker-dealer and wanting...  0.563570         NEG  \n44071  $AAPL yearly Heck of a year.. Jan. 2, 199aroun...  0.680155         POS  \n44072  That $SPY $SPX puump in the last hour was the ...  0.544737         NEU  \n44073  I don't discriminate. I own both $aapl and $msft.  0.558034         POS  \n44074  $AAPL patent 10,522,475 Vertical interconnects...  0.937221         NEU  \n\n[44075 rows x 10 columns]",
      "text/html": "<div>\n<style scoped>\n    .dataframe tbody tr th:only-of-type {\n        vertical-align: middle;\n    }\n\n    .dataframe tbody tr th {\n        vertical-align: top;\n    }\n\n    .dataframe thead th {\n        text-align: right;\n    }\n</style>\n<table border=\"1\" class=\"dataframe\">\n  <thead>\n    <tr style=\"text-align: right;\">\n      <th></th>\n      <th>writer</th>\n      <th>post_date</th>\n      <th>body</th>\n      <th>comment_num</th>\n      <th>retweet_num</th>\n      <th>like_num</th>\n      <th>total_engagement</th>\n      <th>clean_text</th>\n      <th>prob</th>\n      <th>tweet_class</th>\n    </tr>\n  </thead>\n  <tbody>\n    <tr>\n      <th>0</th>\n      <td>TheStreet</td>\n      <td>2019-10-01 08:07:53</td>\n      <td>Apple Extends Gains, European Suppliers Rise A...</td>\n      <td>0</td>\n      <td>1</td>\n      <td>7</td>\n      <td>8</td>\n      <td>Apple Extends Gains, European Suppliers Rise A...</td>\n      <td>0.712731</td>\n      <td>POS</td>\n    </tr>\n    <tr>\n      <th>1</th>\n      <td>stocknewstimes</td>\n      <td>2019-10-01 08:16:47</td>\n      <td>Apple $AAPL Upgraded at BidaskClub  http://the...</td>\n      <td>0</td>\n      <td>0</td>\n      <td>0</td>\n      <td>0</td>\n      <td>Apple $AAPL Upgraded at BidaskClub  url/?p=233049</td>\n      <td>0.701913</td>\n      <td>NEU</td>\n    </tr>\n    <tr>\n      <th>2</th>\n      <td>dakotafinancial</td>\n      <td>2019-10-01 08:18:49</td>\n      <td>Apple $AAPL Upgraded at BidaskClub http://dako...</td>\n      <td>0</td>\n      <td>0</td>\n      <td>0</td>\n      <td>0</td>\n      <td>Apple $AAPL Upgraded at BidaskClub url/?p=1220068</td>\n      <td>0.712318</td>\n      <td>NEU</td>\n    </tr>\n    <tr>\n      <th>3</th>\n      <td>MacHashNews</td>\n      <td>2019-10-01 08:20:05</td>\n      <td>Apple supplier TSMC counter-sues GlobalFoundri...</td>\n      <td>0</td>\n      <td>0</td>\n      <td>0</td>\n      <td>0</td>\n      <td>Apple supplier TSMC counter-sues GlobalFoundri...</td>\n      <td>0.934210</td>\n      <td>NEU</td>\n    </tr>\n    <tr>\n      <th>4</th>\n      <td>stock_family</td>\n      <td>2019-10-01 08:25:09</td>\n      <td>$SPY $MRK $AAPL Goooooooooooood morning fam!</td>\n      <td>0</td>\n      <td>0</td>\n      <td>2</td>\n      <td>2</td>\n      <td>$SPY $MRK $AAPL Good morning fam!</td>\n      <td>0.796910</td>\n      <td>POS</td>\n    </tr>\n    <tr>\n      <th>...</th>\n      <td>...</td>\n      <td>...</td>\n      <td>...</td>\n      <td>...</td>\n      <td>...</td>\n      <td>...</td>\n      <td>...</td>\n      <td>...</td>\n      <td>...</td>\n      <td>...</td>\n    </tr>\n    <tr>\n      <th>44070</th>\n      <td>QuantWolfLine</td>\n      <td>2019-12-31 23:51:01</td>\n      <td>Imagine calling your broker-dealer and wanting...</td>\n      <td>1</td>\n      <td>0</td>\n      <td>1</td>\n      <td>2</td>\n      <td>Imagine calling your broker-dealer and wanting...</td>\n      <td>0.563570</td>\n      <td>NEG</td>\n    </tr>\n    <tr>\n      <th>44071</th>\n      <td>GMGRIFF_79</td>\n      <td>2019-12-31 23:51:06</td>\n      <td>$AAPL yearly~ Heck of a year.. Jan. 2, 1999~ar...</td>\n      <td>0</td>\n      <td>0</td>\n      <td>1</td>\n      <td>1</td>\n      <td>$AAPL yearly Heck of a year.. Jan. 2, 199aroun...</td>\n      <td>0.680155</td>\n      <td>POS</td>\n    </tr>\n    <tr>\n      <th>44072</th>\n      <td>TEEELAZER</td>\n      <td>2019-12-31 23:53:03</td>\n      <td>That $SPY $SPX puuump in the last hour was the...</td>\n      <td>1</td>\n      <td>0</td>\n      <td>6</td>\n      <td>7</td>\n      <td>That $SPY $SPX puump in the last hour was the ...</td>\n      <td>0.544737</td>\n      <td>NEU</td>\n    </tr>\n    <tr>\n      <th>44073</th>\n      <td>MoriaCrypto</td>\n      <td>2019-12-31 23:55:37</td>\n      <td>I don't discriminate. I own both $aapl and $ms...</td>\n      <td>1</td>\n      <td>0</td>\n      <td>1</td>\n      <td>2</td>\n      <td>I don't discriminate. I own both $aapl and $msft.</td>\n      <td>0.558034</td>\n      <td>POS</td>\n    </tr>\n    <tr>\n      <th>44074</th>\n      <td>treabase</td>\n      <td>2019-12-31 23:55:53</td>\n      <td>$AAPL #patent 10,522,475 Vertical interconnect...</td>\n      <td>0</td>\n      <td>0</td>\n      <td>0</td>\n      <td>0</td>\n      <td>$AAPL patent 10,522,475 Vertical interconnects...</td>\n      <td>0.937221</td>\n      <td>NEU</td>\n    </tr>\n  </tbody>\n</table>\n<p>44075 rows × 10 columns</p>\n</div>"
     },
     "execution_count": 1,
     "metadata": {},
     "output_type": "execute_result"
    }
   ],
   "source": [
    "import pandas as pd\n",
    "tweets = pd.read_csv(f'../kaggle_data/added_tweets_AAPL_191001_191231.csv')\n",
    "twitter_data = tweets\n",
    "twitter_data['post_date'] = pd.to_datetime(twitter_data['post_date'],  unit='s')\n",
    "\n",
    "twitter_data"
   ],
   "metadata": {
    "collapsed": false,
    "pycharm": {
     "name": "#%%\n"
    }
   }
  },
  {
   "cell_type": "code",
   "execution_count": 7,
   "outputs": [
    {
     "name": "stderr",
     "output_type": "stream",
     "text": [
      "/var/folders/tf/kt2z64bn72lfmzbccyrlf4xr0000gn/T/ipykernel_3643/2053233673.py:5: SettingWithCopyWarning: \n",
      "A value is trying to be set on a copy of a slice from a DataFrame.\n",
      "Try using .loc[row_indexer,col_indexer] = value instead\n",
      "\n",
      "See the caveats in the documentation: https://pandas.pydata.org/pandas-docs/stable/user_guide/indexing.html#returning-a-view-versus-a-copy\n",
      "  df[i] = df[i].astype(str)\n"
     ]
    }
   ],
   "source": [
    "import boto3\n",
    "\n",
    "df = tweets[:100]\n",
    "for i in df.columns:\n",
    "    df[i] = df[i].astype(str)\n",
    "\n",
    "myl=df.T.to_dict().values()"
   ],
   "metadata": {
    "collapsed": false,
    "pycharm": {
     "name": "#%%\n"
    }
   }
  },
  {
   "cell_type": "code",
   "execution_count": 3,
   "outputs": [],
   "source": [
    "# Connect to DynamoDB using boto\n",
    "resource0 = boto3.resource('dynamodb')\n",
    "# Connect to the DynamoDB table\n",
    "table = resource0.Table('AAPL_tweets')"
   ],
   "metadata": {
    "collapsed": false,
    "pycharm": {
     "name": "#%%\n"
    }
   }
  },
  {
   "cell_type": "code",
   "execution_count": 8,
   "outputs": [],
   "source": [
    "# Load the JSON object created in the step 3 using put_item method\n",
    "for record in myl:\n",
    "    table.put_item(Item=record)"
   ],
   "metadata": {
    "collapsed": false,
    "pycharm": {
     "name": "#%%\n"
    }
   }
  },
  {
   "cell_type": "code",
   "execution_count": 4,
   "outputs": [
    {
     "name": "stdout",
     "output_type": "stream",
     "text": [
      "2021-10-29 22:40:45.851000-07:00\n"
     ]
    }
   ],
   "source": [
    "print(table.creation_date_time)\n",
    "\n"
   ],
   "metadata": {
    "collapsed": false,
    "pycharm": {
     "name": "#%%\n"
    }
   }
  }
 ],
 "metadata": {
  "kernelspec": {
   "display_name": "Python 3",
   "language": "python",
   "name": "python3"
  },
  "language_info": {
   "codemirror_mode": {
    "name": "ipython",
    "version": 2
   },
   "file_extension": ".py",
   "mimetype": "text/x-python",
   "name": "python",
   "nbconvert_exporter": "python",
   "pygments_lexer": "ipython2",
   "version": "2.7.6"
  }
 },
 "nbformat": 4,
 "nbformat_minor": 0
}