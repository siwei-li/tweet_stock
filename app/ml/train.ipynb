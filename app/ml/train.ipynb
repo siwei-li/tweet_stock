{
 "cells": [
  {
   "cell_type": "code",
   "execution_count": 3,
   "metadata": {
    "collapsed": true
   },
   "outputs": [
    {
     "name": "stdout",
     "output_type": "stream",
     "text": [
      "---dataframe head---\n",
      "                     <OPEN>   <HIGH>     <LOW>   <CLOSE>  tw_count  \\\n",
      "<TIME>                                                               \n",
      "2019-10-01 10:00:00  225.13  228.220  224.7000  228.0700         9   \n",
      "2019-10-01 10:30:00  228.05  228.080  225.8389  226.7554         3   \n",
      "2019-10-01 11:00:00  226.75  227.135  226.0600  226.1900         9   \n",
      "2019-10-01 11:30:00  226.18  227.640  225.9600  227.6400        13   \n",
      "2019-10-01 12:00:00  227.64  227.660  226.0700  226.2700        11   \n",
      "\n",
      "                     tw_mean_chars  tw_n_pos  tw_ratio_pos  tw_n_neg  \\\n",
      "<TIME>                                                                 \n",
      "2019-10-01 10:00:00      98.222222         1      0.111111         0   \n",
      "2019-10-01 10:30:00      61.000000         1      0.333333         0   \n",
      "2019-10-01 11:00:00      94.777778         1      0.111111         0   \n",
      "2019-10-01 11:30:00     141.000000         3      0.230769         1   \n",
      "2019-10-01 12:00:00     133.454545         0      0.000000         1   \n",
      "\n",
      "                     tw_ratio_neg   tw_prob  \n",
      "<TIME>                                       \n",
      "2019-10-01 10:00:00      0.000000  0.889241  \n",
      "2019-10-01 10:30:00      0.000000  0.836416  \n",
      "2019-10-01 11:00:00      0.000000  0.785081  \n",
      "2019-10-01 11:30:00      0.076923  0.816343  \n",
      "2019-10-01 12:00:00      0.090909  0.884330  \n",
      "--scaling data---\n",
      "--shapes--\n",
      "train, test (657, 11) (165, 11)\n"
     ]
    }
   ],
   "source": [
    "import pandas as pd\n",
    "import numpy as np\n",
    "import matplotlib.pyplot as plt\n",
    "import tensorflow as tf\n",
    "from time import time\n",
    "from tensorflow.keras.models import Sequential, load_model\n",
    "from tensorflow.keras.layers import Dense, Activation, Dropout, Flatten\n",
    "from tensorflow.keras.layers import LSTM\n",
    "from tensorflow.keras.optimizers import Adam\n",
    "from time import time\n",
    "from tensorflow.keras.callbacks import EarlyStopping\n",
    "from sklearn.metrics import r2_score\n",
    "from sklearn.preprocessing import MinMaxScaler\n",
    "\n",
    "sc = MinMaxScaler()\n",
    "\n",
    "\n",
    "df = pd.read_csv(\"../data_process/merged_AAPL_30m_191001_191231.csv\")\n",
    "df.drop(columns=['<VOL>'], inplace=True)\n",
    "# df = df.iloc[: , 1:]\n",
    "df.sort_values(by='<TIME>', ascending=True, inplace=True)\n",
    "df.set_index(\"<TIME>\", inplace=True)\n",
    "\n",
    "print(\"---dataframe head---\")\n",
    "print(df.head())\n",
    "\n",
    "print(\"--scaling data---\")\n",
    "data = sc.fit_transform(df)\n",
    "\n",
    "train_ind = int(0.8 * len(df))\n",
    "# val_ind = train_ind + int(0.2*len(df))\n",
    "\n",
    "train = data[:train_ind]\n",
    "# val = data[train_ind:val_ind]\n",
    "# test = data[val_ind:]\n",
    "test = data[train_ind:]\n",
    "\n",
    "print(\"--shapes--\")\n",
    "print(\"train, test\", train.shape, test.shape)"
   ]
  },
  {
   "cell_type": "code",
   "execution_count": 6,
   "outputs": [
    {
     "data": {
      "text/plain": "(822, 11)"
     },
     "execution_count": 6,
     "metadata": {},
     "output_type": "execute_result"
    }
   ],
   "source": [
    "df.shape"
   ],
   "metadata": {
    "collapsed": false,
    "pycharm": {
     "name": "#%%\n"
    }
   }
  },
  {
   "cell_type": "code",
   "execution_count": 4,
   "outputs": [
    {
     "name": "stdout",
     "output_type": "stream",
     "text": [
      "(165, 4) (165,)\n",
      "x_train (656, 1, 4)\n",
      "y_train (656,)\n",
      "x_test (164, 1, 4)\n",
      "y_test (164,)\n"
     ]
    }
   ],
   "source": [
    "xtrain, ytrain, xtest, ytest = train[:, :4], train[:, 3], test[:, :4], test[:, 3]\n",
    "print(xtest.shape, ytest.shape)\n",
    "\n",
    "# lookback = 60\n",
    "lookback = 1\n",
    "\n",
    "n_features = 4\n",
    "train_len = len(xtrain) - lookback\n",
    "test_len = len(xtest) - lookback\n",
    "# val_len = len(xval) - lookback\n",
    "\n",
    "x_train = np.zeros((train_len, lookback, n_features))\n",
    "y_train = np.zeros((train_len))\n",
    "for i in range(train_len):\n",
    "    ytemp = i + lookback\n",
    "    x_train[i] = xtrain[i:ytemp]\n",
    "    y_train[i] = ytrain[ytemp]\n",
    "print(\"x_train\", x_train.shape)\n",
    "print(\"y_train\", y_train.shape)\n",
    "\n",
    "x_test = np.zeros((test_len, lookback, n_features))\n",
    "y_test = np.zeros((test_len))\n",
    "for i in range(test_len):\n",
    "    ytemp = i + lookback\n",
    "    x_test[i] = xtest[i:ytemp]\n",
    "    y_test[i] = ytest[ytemp]\n",
    "print(\"x_test\", x_test.shape)\n",
    "print(\"y_test\", y_test.shape)\n",
    "\n",
    "earlystop = EarlyStopping(monitor='val_loss', min_delta=0.0001, patience=80, verbose=1, mode='min')"
   ],
   "metadata": {
    "collapsed": false,
    "pycharm": {
     "name": "#%%\n"
    }
   }
  },
  {
   "cell_type": "code",
   "execution_count": null,
   "outputs": [
    {
     "name": "stdout",
     "output_type": "stream",
     "text": [
      "INFO:tensorflow:Reloading Oracle from existing project ./untitled_project/oracle.json\n",
      "\n",
      "Search: Running Trial #1\n",
      "\n",
      "Hyperparameter    |Value             |Best Value So Far \n",
      "n_hidden          |0                 |?                 \n",
      "n_units1          |467               |?                 \n",
      "v_activation      |relu              |?                 \n",
      "v_dropout         |0.25              |?                 \n",
      "\n",
      "Epoch 1/100\n",
      "WARNING:tensorflow:AutoGraph could not transform <function Model.make_train_function.<locals>.train_function at 0x167f2b8b0> and will run it as-is.\n",
      "Please report this to the TensorFlow team. When filing the bug, set the verbosity to 10 (on Linux, `export AUTOGRAPH_VERBOSITY=10`) and attach the full output.\n",
      "Cause: unsupported operand type(s) for -: 'NoneType' and 'int'\n",
      "To silence this warning, decorate the function with @tf.autograph.experimental.do_not_convert\n",
      "WARNING: AutoGraph could not transform <function Model.make_train_function.<locals>.train_function at 0x167f2b8b0> and will run it as-is.\n",
      "Please report this to the TensorFlow team. When filing the bug, set the verbosity to 10 (on Linux, `export AUTOGRAPH_VERBOSITY=10`) and attach the full output.\n",
      "Cause: unsupported operand type(s) for -: 'NoneType' and 'int'\n",
      "To silence this warning, decorate the function with @tf.autograph.experimental.do_not_convert\n"
     ]
    }
   ],
   "source": [
    "import tensorflow\n",
    "from kerastuner.tuners import RandomSearch\n",
    "from tensorflow.keras.layers import LSTM, Dropout, Dense\n",
    "from tensorflow.keras.models import Sequential\n",
    "from tensorflow.keras.models import Model\n",
    "\n",
    "\n",
    "X_train, X_test = x_train, x_test\n",
    "\n",
    "\n",
    "def build_model(hp):\n",
    "    model = Sequential()\n",
    "    # number of hidden layer\n",
    "    hidden = hp.Int(\"n_hidden\", min_value=0, max_value=3)\n",
    "    # first LSTM−Layer\n",
    "    model.add(LSTM(units=hp.Int(\"n_units1\", min_value=17, max_value=500, step=50),\n",
    "                   activation=hp.Choice(\"v_activation\", values=[\"relu\", \"tanh\", \"sigmoid\"], default=\"relu\"),\n",
    "                   input_shape=(X_train.shape[1], X_train.shape[2]),\n",
    "                   return_sequences=True if hidden > 0 else False))\n",
    "\n",
    "    if hidden > 0:\n",
    "        for layer in range(hidden):\n",
    "            model.add(Dropout(hp.Float(\"v_dropout_hidden\" + str(layer + 1), min_value=0.05, max_value=0.95, step=0.05)))\n",
    "            model.add(LSTM(units=hp.Int(\"n_units_hidden\" + str(layer + 1), min_value=17,\n",
    "                                        max_value=250,\n",
    "                                        step=50),\n",
    "                           activation=\"relu\",\n",
    "                           return_sequences=True if layer != hidden else False))\n",
    "\n",
    "    model.add(Dropout(hp.Float(\"v_dropout\", min_value=0.05, max_value=0.95, step=0.05)))\n",
    "    model.add(Dense(units=1))\n",
    "\n",
    "    model.compile(optimizer=\"adam\", loss=\"mean_squared_error\")\n",
    "    return model\n",
    "\n",
    "\n",
    "tuner = RandomSearch(build_model,\n",
    "                     objective=\"val_loss\", max_trials=50,\n",
    "                     seed=1,\n",
    "                     executions_per_trial=3, directory=\"\",\n",
    "                     project_name=\"\"\n",
    "                     )\n",
    "\n",
    "early_stopping_cb = tensorflow.keras.callbacks.EarlyStopping(patience=10, restore_best_weights=True)\n",
    "tuner.search(X_train, y_train,\n",
    "             epochs=100,\n",
    "             # epochs=1500,\n",
    "             batch_size=32,\n",
    "             validation_split=0.2, callbacks=[early_stopping_cb], verbose=1)\n",
    "\n",
    "best_model = tuner.get_best_models(num_models=1)[0]\n",
    "# save best model for that variable combination\n",
    "best_model.save(\"best_model.h5\")\n",
    "# Evaluate the best model with test data\n",
    "loss = best_model.evaluate(X_test, y_test)"
   ],
   "metadata": {
    "collapsed": false,
    "pycharm": {
     "name": "#%%\n",
     "is_executing": true
    }
   }
  },
  {
   "cell_type": "code",
   "execution_count": 1,
   "outputs": [
    {
     "ename": "NameError",
     "evalue": "name 'best_model' is not defined",
     "output_type": "error",
     "traceback": [
      "\u001B[0;31m---------------------------------------------------------------------------\u001B[0m",
      "\u001B[0;31mNameError\u001B[0m                                 Traceback (most recent call last)",
      "\u001B[0;32m/var/folders/tf/kt2z64bn72lfmzbccyrlf4xr0000gn/T/ipykernel_26603/996200432.py\u001B[0m in \u001B[0;36m<module>\u001B[0;34m\u001B[0m\n\u001B[1;32m      2\u001B[0m \u001B[0mbatch_size\u001B[0m \u001B[0;34m=\u001B[0m \u001B[0;36m32\u001B[0m\u001B[0;34m\u001B[0m\u001B[0;34m\u001B[0m\u001B[0m\n\u001B[1;32m      3\u001B[0m \u001B[0;34m\u001B[0m\u001B[0m\n\u001B[0;32m----> 4\u001B[0;31m history = best_model.fit(x_train, y_train, epochs=epochs, batch_size=batch_size,\n\u001B[0m\u001B[1;32m      5\u001B[0m                          \u001B[0mvalidation_split\u001B[0m \u001B[0;34m=\u001B[0m \u001B[0;36m0.2\u001B[0m\u001B[0;34m,\u001B[0m\u001B[0;34m\u001B[0m\u001B[0;34m\u001B[0m\u001B[0m\n\u001B[1;32m      6\u001B[0m                         \u001B[0;31m# validation_data=(x_val, y_val),\u001B[0m\u001B[0;34m\u001B[0m\u001B[0;34m\u001B[0m\u001B[0;34m\u001B[0m\u001B[0m\n",
      "\u001B[0;31mNameError\u001B[0m: name 'best_model' is not defined"
     ]
    }
   ],
   "source": [
    "epochs = 100\n",
    "batch_size = 32\n",
    "\n",
    "history = best_model.fit(x_train, y_train, epochs=epochs, batch_size=batch_size,\n",
    "                         validation_split = 0.2,\n",
    "                        # validation_data=(x_val, y_val),\n",
    "                         verbose=1,\n",
    "                        shuffle=False, callbacks=[earlystop])\n",
    "\n",
    "loss = history.history\n",
    "plt.plot(loss['loss'])\n",
    "plt.plot(loss['val_loss'])\n",
    "plt.savefig(\"loss_baseline_AAPL.jpg\")\n",
    "plt.show()\n",
    "y_pred = best_model.predict(x_test)\n",
    "print(\"r2_score:\", r2_score(y_pred, y_test))\n",
    "\n",
    "plt.figure(figsize=(20, 10))\n",
    "plt.plot(y_test, '.-', color='red', label='Real values', alpha=0.5)\n",
    "plt.plot(y_pred, '.-', color='blue', label='Predicted values', alpha=1)\n",
    "plt.savefig(\"baseline_AAPL.jpg\")\n",
    "plt.show()"
   ],
   "metadata": {
    "collapsed": false,
    "pycharm": {
     "name": "#%%\n"
    }
   }
  }
 ],
 "metadata": {
  "kernelspec": {
   "display_name": "Python 3",
   "language": "python",
   "name": "python3"
  },
  "language_info": {
   "codemirror_mode": {
    "name": "ipython",
    "version": 2
   },
   "file_extension": ".py",
   "mimetype": "text/x-python",
   "name": "python",
   "nbconvert_exporter": "python",
   "pygments_lexer": "ipython2",
   "version": "2.7.6"
  }
 },
 "nbformat": 4,
 "nbformat_minor": 0
}